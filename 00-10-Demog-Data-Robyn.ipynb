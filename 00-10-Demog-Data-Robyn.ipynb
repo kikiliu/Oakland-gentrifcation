{
 "metadata": {
  "name": "",
  "signature": "sha256:5a11a61c5c10717143c78b05a8047be6914475eadd26903200b5d8a6e5c0369d"
 },
 "nbformat": 3,
 "nbformat_minor": 0,
 "worksheets": [
  {
   "cells": [
    {
     "cell_type": "heading",
     "level": 1,
     "metadata": {},
     "source": [
      "Examining Gentrification in Oakland & Alameda County"
     ]
    },
    {
     "cell_type": "markdown",
     "metadata": {},
     "source": [
      "Gentrification is a hot topic in the Bay Area, and much of the conversation centers around its effects in Oakland. We set out to develop an understanding of what was happening in Oakland based on freely available census, city-collected, and real estate data. Our group considered some of the vectors of gentrification in Oakland over time including property values, income, changing race demographics, and crime statistics. We\u2019ve learned a lot about the challenges of measuring a phenomenon as complex as gentrification, and we have some interesting insights to share. \n"
     ]
    },
    {
     "cell_type": "heading",
     "level": 2,
     "metadata": {},
     "source": [
      "What problem are we solving? "
     ]
    },
    {
     "cell_type": "heading",
     "level": 3,
     "metadata": {},
     "source": [
      "This project allows exhibits an exploratory data analysis of available public (and some private) data about recent changes in Oakland and Alameda county with respect to population, property values, and crime."
     ]
    },
    {
     "cell_type": "heading",
     "level": 2,
     "metadata": {},
     "source": [
      "What were our goals?"
     ]
    },
    {
     "cell_type": "markdown",
     "metadata": {},
     "source": [
      "We set out to analyze three sets of data to gain an understanding of the complex changes taking place in Oakland. What we found was that it is hard to understand all the data at once. Our project aimed to consider aspects of everyday life, and ask the following:"
     ]
    },
    {
     "cell_type": "markdown",
     "metadata": {},
     "source": [
      "What changes have happened in the last couple of decades in Oakland? Specifically, what communities are living in Oakland now, and how have they changed in terms of race and income? How have property values changed? How has crime increased or decreased, and of what type? Here are the specific hypotheses we are going to use as jumping off points in each of our areas:"
     ]
    },
    {
     "cell_type": "markdown",
     "metadata": {},
     "source": [
      "__Demographic Change__\n",
      "\n",
      "We started with the evidence that the African-American community had shrunk as a percentage of Oakland's population between 2000-2010 (based on this report of changes documented by the census in Oakland: http://www.sfgate.com/bayarea/article/25-drop-in-African-American-population-in-Oakland-2471925.php#photo-2035169).\n",
      "\n",
      "We wanted to understand whether other communities had changed as a percentage of the total population in the same time period.\n",
      "\n",
      "We wanted to know if the median household income of the remaining African-American community has been stable over the time period, or whether it has increased or decreased."
     ]
    },
    {
     "cell_type": "markdown",
     "metadata": {},
     "source": [
      "__Crime & Safety__\n",
      "\n",
      "How does crime affect the population variation, and population change? Does crime drive people away in such way that a census would clearly show demographic changes? How is crime correlated with property values? After analyzing basic crime occurrences in the data, a more in-depth approach could be taken and the crime type could then be separated into categories, and analyze things from different angles.  "
     ]
    },
    {
     "cell_type": "markdown",
     "metadata": {},
     "source": [
      "__Property Values__\n",
      "\n",
      "How do housing expenses come into play? We wanted to inspect housing affordability in Oakland and nearby areas to see if price changes contribute to the gentrification of Oakland.\n",
      "\n",
      "Specifically, we wanted to extract the sale price and rent price by neighborhoods or other possible granularity in different years and study how its proportion to household income evolves. We notice that high home price-to-income ratio become problematic for the whole U.S. housing market. In San Francisco, median home price relative to median annual income raised from 4.9 (1985-1999) to 6.8 (2012Q4).\n",
      "\n",
      "We are especially interested in pre-market to see the number and percentage of foreclosure houses over time. We are inspired by the eviction study (https://antievictionmap.squarespace.com/). Are people with lower incomes forced to leave their home in Oakland? Is the real estate bubble a potential cause of demographic change?"
     ]
    },
    {
     "cell_type": "markdown",
     "metadata": {},
     "source": [
      "  "
     ]
    },
    {
     "cell_type": "markdown",
     "metadata": {},
     "source": [
      "_________________________________________________________________________________________________________"
     ]
    },
    {
     "cell_type": "markdown",
     "metadata": {},
     "source": [
      "First, we import all libraries needed for the data manipulation and analysis. "
     ]
    },
    {
     "cell_type": "code",
     "collapsed": false,
     "input": [
      "%pylab --no-import-all inline"
     ],
     "language": "python",
     "metadata": {},
     "outputs": [
      {
       "output_type": "stream",
       "stream": "stdout",
       "text": [
        "Populating the interactive namespace from numpy and matplotlib\n"
       ]
      }
     ],
     "prompt_number": 2
    },
    {
     "cell_type": "code",
     "collapsed": false,
     "input": [
      "import numpy as np\n",
      "import matplotlib.pyplot as plt\n",
      "from pandas import DataFrame, Series, Index\n",
      "import pandas as pd\n",
      "from itertools import islice"
     ],
     "language": "python",
     "metadata": {},
     "outputs": [],
     "prompt_number": 3
    },
    {
     "cell_type": "code",
     "collapsed": false,
     "input": [
      "#import census modules\n",
      "import census\n",
      "import us\n",
      "\n",
      "#import API key\n",
      "import settings"
     ],
     "language": "python",
     "metadata": {},
     "outputs": [],
     "prompt_number": 4
    },
    {
     "cell_type": "markdown",
     "metadata": {},
     "source": [
      "To run this notebook, download an API key from the census and add it to a file called settings.py in the same directory as your notebook: http://www.census.gov/developers/tos/key_request.html"
     ]
    },
    {
     "cell_type": "code",
     "collapsed": false,
     "input": [
      "#access API key\n",
      "c = census.Census(key=settings.CENSUS_KEY)"
     ],
     "language": "python",
     "metadata": {},
     "outputs": [],
     "prompt_number": 5
    },
    {
     "cell_type": "heading",
     "level": 3,
     "metadata": {},
     "source": [
      "Robyn worked on the race/income section below. "
     ]
    },
    {
     "cell_type": "heading",
     "level": 2,
     "metadata": {},
     "source": [
      "We started with a question about the African-American community, inspired by an article from the SF Chronicle on the shrinking African-American community in Oakland. "
     ]
    },
    {
     "cell_type": "markdown",
     "metadata": {},
     "source": [
      "http://www.sfgate.com/bayarea/article/25-drop-in-African-American-population-in-Oakland-2471925.php#photo-2035169"
     ]
    },
    {
     "cell_type": "heading",
     "level": 2,
     "metadata": {},
     "source": [
      "So, has the African-American community really shrunk by 25% in Oakland? Answer: Yes, actually by 27%! In fact, the portion of Oakland that the Black community made up dropped from 37% to 27% in that time. "
     ]
    },
    {
     "cell_type": "code",
     "collapsed": false,
     "input": [
      "#call California census places (i.e. cities) for 2000 (adapted from Raymond Yee's function)\n",
      "year = 2000\n",
      "def places(variables=\"NAME\", year=year):\n",
      "    \n",
      "    states_fips = set([s.fips for s in us.states.STATES])\n",
      "    geo={'for':'place:*',\n",
      "           'in':'state:06'}\n",
      "    \n",
      "    for place in c.sf1.get(variables, geo=geo, year=year):\n",
      "        yield place"
     ],
     "language": "python",
     "metadata": {},
     "outputs": [],
     "prompt_number": 6
    },
    {
     "cell_type": "code",
     "collapsed": false,
     "input": [
      "#P001001/Total Pop, P010004/African-American Not Hispanic, P011001/Hispanic, P010006/Asian, not Hispanic, P010003/White, not Hispanic \n",
      "ca_places_2000 = [place for place in places(variables=\"NAME,P001001,P010004,P011001,P010006,P010003\")]\n",
      "\n",
      "#put list into dataframe\n",
      "ca_places_2000_df = pd.DataFrame(ca_places_2000)\n",
      "ca_places_2000_df.head()"
     ],
     "language": "python",
     "metadata": {},
     "outputs": [
      {
       "html": [
        "<div style=\"max-height:1000px;max-width:1500px;overflow:auto;\">\n",
        "<table border=\"1\" class=\"dataframe\">\n",
        "  <thead>\n",
        "    <tr style=\"text-align: right;\">\n",
        "      <th></th>\n",
        "      <th>NAME</th>\n",
        "      <th>P001001</th>\n",
        "      <th>P010003</th>\n",
        "      <th>P010004</th>\n",
        "      <th>P010006</th>\n",
        "      <th>P011001</th>\n",
        "      <th>place</th>\n",
        "      <th>state</th>\n",
        "    </tr>\n",
        "  </thead>\n",
        "  <tbody>\n",
        "    <tr>\n",
        "      <th>0</th>\n",
        "      <td>         Acton CDP</td>\n",
        "      <td>  2390</td>\n",
        "      <td>  2058</td>\n",
        "      <td>   20</td>\n",
        "      <td>    53</td>\n",
        "      <td>  263</td>\n",
        "      <td> 212</td>\n",
        "      <td> 6</td>\n",
        "    </tr>\n",
        "    <tr>\n",
        "      <th>1</th>\n",
        "      <td>     Adelanto city</td>\n",
        "      <td> 18130</td>\n",
        "      <td>  6964</td>\n",
        "      <td> 2477</td>\n",
        "      <td>   390</td>\n",
        "      <td> 8299</td>\n",
        "      <td> 296</td>\n",
        "      <td> 6</td>\n",
        "    </tr>\n",
        "    <tr>\n",
        "      <th>2</th>\n",
        "      <td> Agoura Hills city</td>\n",
        "      <td> 20537</td>\n",
        "      <td> 17419</td>\n",
        "      <td>  318</td>\n",
        "      <td>  1571</td>\n",
        "      <td> 1407</td>\n",
        "      <td> 394</td>\n",
        "      <td> 6</td>\n",
        "    </tr>\n",
        "    <tr>\n",
        "      <th>3</th>\n",
        "      <td>      Alameda city</td>\n",
        "      <td> 72259</td>\n",
        "      <td> 40770</td>\n",
        "      <td> 5181</td>\n",
        "      <td> 20534</td>\n",
        "      <td> 6725</td>\n",
        "      <td> 562</td>\n",
        "      <td> 6</td>\n",
        "    </tr>\n",
        "    <tr>\n",
        "      <th>4</th>\n",
        "      <td>         Alamo CDP</td>\n",
        "      <td> 15626</td>\n",
        "      <td> 13919</td>\n",
        "      <td>   95</td>\n",
        "      <td>  1100</td>\n",
        "      <td>  616</td>\n",
        "      <td> 618</td>\n",
        "      <td> 6</td>\n",
        "    </tr>\n",
        "  </tbody>\n",
        "</table>\n",
        "<p>5 rows \u00d7 8 columns</p>\n",
        "</div>"
       ],
       "metadata": {},
       "output_type": "pyout",
       "prompt_number": 7,
       "text": [
        "                NAME P001001 P010003 P010004 P010006 P011001 place state\n",
        "0          Acton CDP    2390    2058      20      53     263   212     6\n",
        "1      Adelanto city   18130    6964    2477     390    8299   296     6\n",
        "2  Agoura Hills city   20537   17419     318    1571    1407   394     6\n",
        "3       Alameda city   72259   40770    5181   20534    6725   562     6\n",
        "4          Alamo CDP   15626   13919      95    1100     616   618     6\n",
        "\n",
        "[5 rows x 8 columns]"
       ]
      }
     ],
     "prompt_number": 7
    },
    {
     "cell_type": "code",
     "collapsed": false,
     "input": [
      "pop_vars_00 = ['P001001', 'P010003', 'P010004', 'P010006', 'P011001']\n",
      "\n",
      "#turn numbers into integers\n",
      "ca_places_2000_df[(pop_vars_00)] = ca_places_2000_df[(pop_vars_00)].astype(int)\n"
     ],
     "language": "python",
     "metadata": {},
     "outputs": [],
     "prompt_number": 8
    },
    {
     "cell_type": "code",
     "collapsed": false,
     "input": [
      "#create new descriptively named columns with values population by race/ethnicity\n",
      "ca_places_2000_df['African-American, not Hispanic'] = ca_places_2000_df['P010004']\n",
      "ca_places_2000_df['White, not Hispanic'] = ca_places_2000_df['P010003']\n",
      "ca_places_2000_df['Asian, not Hispanic'] = ca_places_2000_df['P010006']\n",
      "ca_places_2000_df['Total Pop'] = ca_places_2000_df['P001001']\n",
      "ca_places_2000_df['Hispanic'] = ca_places_2000_df['P011001']\n",
      "\n",
      "#show only columns that have legible names; set index by tract\n",
      "alameda_places_df_2000 = ca_places_2000_df[['place','NAME','Total Pop','African-American, not Hispanic', \\\n",
      "          'Asian, not Hispanic', 'Hispanic', 'White, not Hispanic']] \n",
      "\n",
      "alameda_places_df_2000.head()"
     ],
     "language": "python",
     "metadata": {},
     "outputs": [
      {
       "html": [
        "<div style=\"max-height:1000px;max-width:1500px;overflow:auto;\">\n",
        "<table border=\"1\" class=\"dataframe\">\n",
        "  <thead>\n",
        "    <tr style=\"text-align: right;\">\n",
        "      <th></th>\n",
        "      <th>place</th>\n",
        "      <th>NAME</th>\n",
        "      <th>Total Pop</th>\n",
        "      <th>African-American, not Hispanic</th>\n",
        "      <th>Asian, not Hispanic</th>\n",
        "      <th>Hispanic</th>\n",
        "      <th>White, not Hispanic</th>\n",
        "    </tr>\n",
        "  </thead>\n",
        "  <tbody>\n",
        "    <tr>\n",
        "      <th>0</th>\n",
        "      <td> 212</td>\n",
        "      <td>         Acton CDP</td>\n",
        "      <td>  2390</td>\n",
        "      <td>   20</td>\n",
        "      <td>    53</td>\n",
        "      <td>  263</td>\n",
        "      <td>  2058</td>\n",
        "    </tr>\n",
        "    <tr>\n",
        "      <th>1</th>\n",
        "      <td> 296</td>\n",
        "      <td>     Adelanto city</td>\n",
        "      <td> 18130</td>\n",
        "      <td> 2477</td>\n",
        "      <td>   390</td>\n",
        "      <td> 8299</td>\n",
        "      <td>  6964</td>\n",
        "    </tr>\n",
        "    <tr>\n",
        "      <th>2</th>\n",
        "      <td> 394</td>\n",
        "      <td> Agoura Hills city</td>\n",
        "      <td> 20537</td>\n",
        "      <td>  318</td>\n",
        "      <td>  1571</td>\n",
        "      <td> 1407</td>\n",
        "      <td> 17419</td>\n",
        "    </tr>\n",
        "    <tr>\n",
        "      <th>3</th>\n",
        "      <td> 562</td>\n",
        "      <td>      Alameda city</td>\n",
        "      <td> 72259</td>\n",
        "      <td> 5181</td>\n",
        "      <td> 20534</td>\n",
        "      <td> 6725</td>\n",
        "      <td> 40770</td>\n",
        "    </tr>\n",
        "    <tr>\n",
        "      <th>4</th>\n",
        "      <td> 618</td>\n",
        "      <td>         Alamo CDP</td>\n",
        "      <td> 15626</td>\n",
        "      <td>   95</td>\n",
        "      <td>  1100</td>\n",
        "      <td>  616</td>\n",
        "      <td> 13919</td>\n",
        "    </tr>\n",
        "  </tbody>\n",
        "</table>\n",
        "<p>5 rows \u00d7 7 columns</p>\n",
        "</div>"
       ],
       "metadata": {},
       "output_type": "pyout",
       "prompt_number": 9,
       "text": [
        "  place               NAME  Total Pop  African-American, not Hispanic  \\\n",
        "0   212          Acton CDP       2390                              20   \n",
        "1   296      Adelanto city      18130                            2477   \n",
        "2   394  Agoura Hills city      20537                             318   \n",
        "3   562       Alameda city      72259                            5181   \n",
        "4   618          Alamo CDP      15626                              95   \n",
        "\n",
        "   Asian, not Hispanic  Hispanic  White, not Hispanic  \n",
        "0                   53       263                 2058  \n",
        "1                  390      8299                 6964  \n",
        "2                 1571      1407                17419  \n",
        "3                20534      6725                40770  \n",
        "4                 1100       616                13919  \n",
        "\n",
        "[5 rows x 7 columns]"
       ]
      }
     ],
     "prompt_number": 9
    },
    {
     "cell_type": "code",
     "collapsed": false,
     "input": [
      "ca_places_2010 = [place for place in places(variables=\"NAME,P0010001,P0050004,P0050010,P0050006,P0050003\", year=2010)]\n",
      "\n",
      "#put list into dataframe\n",
      "ca_places_2010_df = pd.DataFrame(ca_places_2010)\n",
      "ca_places_2010_df.head()"
     ],
     "language": "python",
     "metadata": {},
     "outputs": [
      {
       "html": [
        "<div style=\"max-height:1000px;max-width:1500px;overflow:auto;\">\n",
        "<table border=\"1\" class=\"dataframe\">\n",
        "  <thead>\n",
        "    <tr style=\"text-align: right;\">\n",
        "      <th></th>\n",
        "      <th>NAME</th>\n",
        "      <th>P0010001</th>\n",
        "      <th>P0050003</th>\n",
        "      <th>P0050004</th>\n",
        "      <th>P0050006</th>\n",
        "      <th>P0050010</th>\n",
        "      <th>place</th>\n",
        "      <th>state</th>\n",
        "    </tr>\n",
        "  </thead>\n",
        "  <tbody>\n",
        "    <tr>\n",
        "      <th>0</th>\n",
        "      <td> Acalanes Ridge CDP</td>\n",
        "      <td>  1137</td>\n",
        "      <td>  908</td>\n",
        "      <td>    5</td>\n",
        "      <td> 125</td>\n",
        "      <td>    50</td>\n",
        "      <td> 00135</td>\n",
        "      <td> 06</td>\n",
        "    </tr>\n",
        "    <tr>\n",
        "      <th>1</th>\n",
        "      <td>         Acampo CDP</td>\n",
        "      <td>   341</td>\n",
        "      <td>  113</td>\n",
        "      <td>    0</td>\n",
        "      <td>   3</td>\n",
        "      <td>   199</td>\n",
        "      <td> 00156</td>\n",
        "      <td> 06</td>\n",
        "    </tr>\n",
        "    <tr>\n",
        "      <th>2</th>\n",
        "      <td>          Acton CDP</td>\n",
        "      <td>  7596</td>\n",
        "      <td> 5782</td>\n",
        "      <td>   54</td>\n",
        "      <td> 151</td>\n",
        "      <td>  1373</td>\n",
        "      <td> 00212</td>\n",
        "      <td> 06</td>\n",
        "    </tr>\n",
        "    <tr>\n",
        "      <th>3</th>\n",
        "      <td>      Adelanto city</td>\n",
        "      <td> 31765</td>\n",
        "      <td> 5395</td>\n",
        "      <td> 6196</td>\n",
        "      <td> 522</td>\n",
        "      <td> 18513</td>\n",
        "      <td> 00296</td>\n",
        "      <td> 06</td>\n",
        "    </tr>\n",
        "    <tr>\n",
        "      <th>4</th>\n",
        "      <td>           Adin CDP</td>\n",
        "      <td>   272</td>\n",
        "      <td>  224</td>\n",
        "      <td>    2</td>\n",
        "      <td>   0</td>\n",
        "      <td>    32</td>\n",
        "      <td> 00310</td>\n",
        "      <td> 06</td>\n",
        "    </tr>\n",
        "  </tbody>\n",
        "</table>\n",
        "<p>5 rows \u00d7 8 columns</p>\n",
        "</div>"
       ],
       "metadata": {},
       "output_type": "pyout",
       "prompt_number": 10,
       "text": [
        "                 NAME P0010001 P0050003 P0050004 P0050006 P0050010  place  \\\n",
        "0  Acalanes Ridge CDP     1137      908        5      125       50  00135   \n",
        "1          Acampo CDP      341      113        0        3      199  00156   \n",
        "2           Acton CDP     7596     5782       54      151     1373  00212   \n",
        "3       Adelanto city    31765     5395     6196      522    18513  00296   \n",
        "4            Adin CDP      272      224        2        0       32  00310   \n",
        "\n",
        "  state  \n",
        "0    06  \n",
        "1    06  \n",
        "2    06  \n",
        "3    06  \n",
        "4    06  \n",
        "\n",
        "[5 rows x 8 columns]"
       ]
      }
     ],
     "prompt_number": 10
    },
    {
     "cell_type": "code",
     "collapsed": false,
     "input": [
      "#census variables for total population and other racial groups/ethnicities\n",
      "pop_vars_10 = ['P0010001','P0050003','P0050004','P0050006','P0050010']\n",
      "\n",
      "#turn numbers into integers\n",
      "ca_places_2010_df[(pop_vars_10)] = ca_places_2010_df[(pop_vars_10)].astype(int)\n"
     ],
     "language": "python",
     "metadata": {},
     "outputs": [],
     "prompt_number": 13
    },
    {
     "cell_type": "code",
     "collapsed": false,
     "input": [
      "#create new descriptively named columns with values population by race/ethnicity\n",
      "ca_places_2010_df['African-American, not Hispanic'] = ca_places_2010_df['P0050004']\n",
      "ca_places_2010_df['White, not Hispanic'] = ca_places_2010_df['P0050003']\n",
      "ca_places_2010_df['Asian, not Hispanic'] = ca_places_2010_df['P0050006']\n",
      "ca_places_2010_df['Total Pop'] = ca_places_2010_df['P0010001']\n",
      "ca_places_2010_df['Hispanic'] = ca_places_2010_df['P0050010']\n",
      "\n",
      "#show only columns that have legible names; set index by tract\n",
      "alameda_places_df_2010 = ca_places_2010_df[['place','NAME','Total Pop','African-American, not Hispanic', \\\n",
      "          'Asian, not Hispanic', 'Hispanic', 'White, not Hispanic']] \n",
      "\n",
      "alameda_places_df_2010.head()"
     ],
     "language": "python",
     "metadata": {},
     "outputs": [
      {
       "html": [
        "<div style=\"max-height:1000px;max-width:1500px;overflow:auto;\">\n",
        "<table border=\"1\" class=\"dataframe\">\n",
        "  <thead>\n",
        "    <tr style=\"text-align: right;\">\n",
        "      <th></th>\n",
        "      <th>place</th>\n",
        "      <th>NAME</th>\n",
        "      <th>Total Pop</th>\n",
        "      <th>African-American, not Hispanic</th>\n",
        "      <th>Asian, not Hispanic</th>\n",
        "      <th>Hispanic</th>\n",
        "      <th>White, not Hispanic</th>\n",
        "    </tr>\n",
        "  </thead>\n",
        "  <tbody>\n",
        "    <tr>\n",
        "      <th>0</th>\n",
        "      <td> 00135</td>\n",
        "      <td> Acalanes Ridge CDP</td>\n",
        "      <td>  1137</td>\n",
        "      <td>    5</td>\n",
        "      <td> 125</td>\n",
        "      <td>    50</td>\n",
        "      <td>  908</td>\n",
        "    </tr>\n",
        "    <tr>\n",
        "      <th>1</th>\n",
        "      <td> 00156</td>\n",
        "      <td>         Acampo CDP</td>\n",
        "      <td>   341</td>\n",
        "      <td>    0</td>\n",
        "      <td>   3</td>\n",
        "      <td>   199</td>\n",
        "      <td>  113</td>\n",
        "    </tr>\n",
        "    <tr>\n",
        "      <th>2</th>\n",
        "      <td> 00212</td>\n",
        "      <td>          Acton CDP</td>\n",
        "      <td>  7596</td>\n",
        "      <td>   54</td>\n",
        "      <td> 151</td>\n",
        "      <td>  1373</td>\n",
        "      <td> 5782</td>\n",
        "    </tr>\n",
        "    <tr>\n",
        "      <th>3</th>\n",
        "      <td> 00296</td>\n",
        "      <td>      Adelanto city</td>\n",
        "      <td> 31765</td>\n",
        "      <td> 6196</td>\n",
        "      <td> 522</td>\n",
        "      <td> 18513</td>\n",
        "      <td> 5395</td>\n",
        "    </tr>\n",
        "    <tr>\n",
        "      <th>4</th>\n",
        "      <td> 00310</td>\n",
        "      <td>           Adin CDP</td>\n",
        "      <td>   272</td>\n",
        "      <td>    2</td>\n",
        "      <td>   0</td>\n",
        "      <td>    32</td>\n",
        "      <td>  224</td>\n",
        "    </tr>\n",
        "  </tbody>\n",
        "</table>\n",
        "<p>5 rows \u00d7 7 columns</p>\n",
        "</div>"
       ],
       "metadata": {},
       "output_type": "pyout",
       "prompt_number": 14,
       "text": [
        "   place                NAME  Total Pop  African-American, not Hispanic  \\\n",
        "0  00135  Acalanes Ridge CDP       1137                               5   \n",
        "1  00156          Acampo CDP        341                               0   \n",
        "2  00212           Acton CDP       7596                              54   \n",
        "3  00296       Adelanto city      31765                            6196   \n",
        "4  00310            Adin CDP        272                               2   \n",
        "\n",
        "   Asian, not Hispanic  Hispanic  White, not Hispanic  \n",
        "0                  125        50                  908  \n",
        "1                    3       199                  113  \n",
        "2                  151      1373                 5782  \n",
        "3                  522     18513                 5395  \n",
        "4                    0        32                  224  \n",
        "\n",
        "[5 rows x 7 columns]"
       ]
      }
     ],
     "prompt_number": 14
    },
    {
     "cell_type": "code",
     "collapsed": false,
     "input": [
      "#find place ID of Oakland by sorting on towns in CA starting with O by population (it's 53000)\n",
      "o_towns_2000 = alameda_places_df_2000[alameda_places_df_2000['NAME'].str.startswith('O')]\n",
      "o_towns_2000_new = o_towns_2000.sort('Total Pop', ascending=False).set_index(['place'])"
     ],
     "language": "python",
     "metadata": {},
     "outputs": [],
     "prompt_number": 15
    },
    {
     "cell_type": "code",
     "collapsed": false,
     "input": [
      "#find place ID of Oakland by sorting on towns in CA starting with O by population (it's 53000)\n",
      "o_towns_2010 = ca_places_2010_df[ca_places_2010_df['NAME'].str.startswith('O')]\n",
      "o_towns_2010_new = o_towns_2010[['place','NAME','Total Pop','African-American, not Hispanic', \\\n",
      "          'Asian, not Hispanic', 'Hispanic', 'White, not Hispanic']].sort('Total Pop', ascending=False).set_index(['place'])"
     ],
     "language": "python",
     "metadata": {},
     "outputs": [],
     "prompt_number": 16
    },
    {
     "cell_type": "heading",
     "level": 2,
     "metadata": {},
     "source": [
      "How much did Oakland's total population change between 2000-2010? (-8760 people)"
     ]
    },
    {
     "cell_type": "code",
     "collapsed": false,
     "input": [
      "#Total Oakland population decrease from 2000 to 2010\n",
      "o_pop_change = o_towns_2010_new.ix[['53000']]['Total Pop'] - o_towns_2000_new.ix[['53000']]['Total Pop']\n",
      "o_pop_change"
     ],
     "language": "python",
     "metadata": {},
     "outputs": [
      {
       "metadata": {},
       "output_type": "pyout",
       "prompt_number": 18,
       "text": [
        "53000   -8760\n",
        "Name: Total Pop, dtype: int64"
       ]
      }
     ],
     "prompt_number": 18
    },
    {
     "cell_type": "heading",
     "level": 2,
     "metadata": {},
     "source": [
      "That's a 2% decrease. So we know the population of Oakland overall hasn't gotten much smaller."
     ]
    },
    {
     "cell_type": "code",
     "collapsed": false,
     "input": [
      "#change over 2000 total population is an overall decrease by 2% since 2000\n",
      "o_pop_percent_change = o_pop_change/o_towns_2000_new.ix[['53000']]['Total Pop']\n",
      "o_pop_percent_change"
     ],
     "language": "python",
     "metadata": {},
     "outputs": [
      {
       "metadata": {},
       "output_type": "pyout",
       "prompt_number": 19,
       "text": [
        "53000   -0.021928\n",
        "Name: Total Pop, dtype: float64"
       ]
      }
     ],
     "prompt_number": 19
    },
    {
     "cell_type": "heading",
     "level": 2,
     "metadata": {},
     "source": [
      "But in Oakland's Black community, there's been a decrease of almost 40,000 people."
     ]
    },
    {
     "cell_type": "code",
     "collapsed": false,
     "input": [
      "print 'Total African-American community in 2000: %s' %o_towns_2000_new.ix[['53000']]['African-American, not Hispanic'][0]\n",
      "print 'Total African-American community in 2010: %s' %o_towns_2010_new.ix[['53000']]['African-American, not Hispanic'][0]"
     ],
     "language": "python",
     "metadata": {},
     "outputs": [
      {
       "output_type": "stream",
       "stream": "stdout",
       "text": [
        "Total African-American community in 2000: 146510\n",
        "Total African-American community in 2010: 106637\n"
       ]
      }
     ],
     "prompt_number": 20
    },
    {
     "cell_type": "heading",
     "level": 2,
     "metadata": {},
     "source": [
      "...which, in effect, is a -27% change in the total community members from 2000 to 2010, corroborating the original SF Gate article. "
     ]
    },
    {
     "cell_type": "code",
     "collapsed": false,
     "input": [
      "print 'Total Change: %s' %((o_towns_2010_new.ix[['53000']]['African-American, not Hispanic'][0] - \\\n",
      "                            o_towns_2000_new.ix[['53000']]['African-American, not Hispanic'][0].astype(float))\\\n",
      " /o_towns_2000_new.ix[['53000']]['African-American, not Hispanic'][0])"
     ],
     "language": "python",
     "metadata": {},
     "outputs": [
      {
       "output_type": "stream",
       "stream": "stdout",
       "text": [
        "Total Change: -0.272152071531\n"
       ]
      }
     ],
     "prompt_number": 21
    },
    {
     "cell_type": "code",
     "collapsed": false,
     "input": [
      "#change in African-American population between 2000 and 2010\n",
      "af_am_total_change = o_towns_2010_new.ix[['53000']]['African-American, not Hispanic'] - \\\n",
      "o_towns_2000_new.ix[['53000']]['African-American, not Hispanic']\n",
      "\n",
      "af_am_total_change"
     ],
     "language": "python",
     "metadata": {},
     "outputs": [
      {
       "metadata": {},
       "output_type": "pyout",
       "prompt_number": 22,
       "text": [
        "53000   -39873\n",
        "Name: African-American, not Hispanic, dtype: int64"
       ]
      }
     ],
     "prompt_number": 22
    },
    {
     "cell_type": "heading",
     "level": 2,
     "metadata": {},
     "source": [
      "That means Oakland's Black community made up 37% of the population in 2000. "
     ]
    },
    {
     "cell_type": "code",
     "collapsed": false,
     "input": [
      "#Percentage of African-Americans in 2000\n",
      "af_am_percent_2000 = o_towns_2000_new.ix[['53000']]['African-American, not Hispanic']\\\n",
      "/o_towns_2000_new.ix[['53000']]['Total Pop']\n",
      "\n",
      "af_am_percent_2000"
     ],
     "language": "python",
     "metadata": {},
     "outputs": [
      {
       "metadata": {},
       "output_type": "pyout",
       "prompt_number": 23,
       "text": [
        "53000    0.366748\n",
        "dtype: float64"
       ]
      }
     ],
     "prompt_number": 23
    },
    {
     "cell_type": "heading",
     "level": 2,
     "metadata": {},
     "source": [
      "...but by 2010, made up 27% of Oakland, a decrease of 9.4%, more than 4 times the change in Oakland's overall population."
     ]
    },
    {
     "cell_type": "code",
     "collapsed": false,
     "input": [
      "#Percentage of African-Americans in 2010\n",
      "af_am_percent_2010 = o_towns_2010_new.ix[['53000']]['African-American, not Hispanic']\\\n",
      "/o_towns_2010_new.ix[['53000']]['Total Pop']\n",
      "\n",
      "af_am_percent_2010"
     ],
     "language": "python",
     "metadata": {},
     "outputs": [
      {
       "metadata": {},
       "output_type": "pyout",
       "prompt_number": 24,
       "text": [
        "53000    0.272922\n",
        "dtype: float64"
       ]
      }
     ],
     "prompt_number": 24
    },
    {
     "cell_type": "code",
     "collapsed": false,
     "input": [
      "#9.4% decrease in percentage of African-American community in ten year span\n",
      "af_am_percent_change = af_am_percent_2010 - af_am_percent_2000 \n",
      "af_am_percent_change"
     ],
     "language": "python",
     "metadata": {},
     "outputs": [
      {
       "metadata": {},
       "output_type": "pyout",
       "prompt_number": 25,
       "text": [
        "53000   -0.093827\n",
        "dtype: float64"
       ]
      }
     ],
     "prompt_number": 25
    },
    {
     "cell_type": "heading",
     "level": 2,
     "metadata": {},
     "source": [
      "Here's a chart that shows the difference."
     ]
    },
    {
     "cell_type": "code",
     "collapsed": false,
     "input": [
      "pop_changes = [af_am_percent_change[0]*100, o_pop_percent_change[0]*100]\n",
      "\n",
      "communities = ('African-American Community', 'All Oakland')\n",
      "pos = np.arange(len(communities)) + .5\n",
      "error = np.random.rand(len(communities))\n",
      "\n",
      "plt.barh(pos, pop_changes, align='center', color=\"#669999\", alpha=0.7)\n",
      "plt.yticks(pos, communities)\n",
      "plt.grid()\n",
      "plt.xlabel('Population Change (%)')\n",
      "plt.title('Oakland between 2000-2010')\n",
      "\n",
      "plt.show()"
     ],
     "language": "python",
     "metadata": {},
     "outputs": [
      {
       "metadata": {},
       "output_type": "display_data",
       "png": "[encoded data removed]",
       "text": [
        "<matplotlib.figure.Figure at 0x1082a10d0>"
       ]
      }
     ],
     "prompt_number": 26
    },
    {
     "cell_type": "heading",
     "level": 2,
     "metadata": {},
     "source": [
      "So what about the other communities in Oakland? Which community is taking the place that the African-American community is leaving behind?"
     ]
    },
    {
     "cell_type": "code",
     "collapsed": false,
     "input": [
      "#change in White population between 2000 and 2010\n",
      "white_total_change = o_towns_2010_new.ix[['53000']]['White, not Hispanic'] - \\\n",
      "o_towns_2000_new.ix[['53000']]['White, not Hispanic']\n",
      "\n",
      "#Percentage of Whites in 2000\n",
      "white_percent_2000 = o_towns_2000_new.ix[['53000']]['White, not Hispanic']\\\n",
      "/o_towns_2000_new.ix[['53000']]['Total Pop']\n",
      "\n",
      "#Percentage of Whites in 2010\n",
      "white_percent_2010 = o_towns_2010_new.ix[['53000']]['White, not Hispanic']\\\n",
      "/o_towns_2010_new.ix[['53000']]['Total Pop']\n",
      "\n",
      "#.4% increase in percentage of White community in ten year span\n",
      "white_percent_change = white_percent_2010 - white_percent_2000 "
     ],
     "language": "python",
     "metadata": {},
     "outputs": [],
     "prompt_number": 30
    },
    {
     "cell_type": "heading",
     "level": 2,
     "metadata": {},
     "source": [
      "Not much change in Oakland's white Community: (.4% increase, -688 in total)"
     ]
    },
    {
     "cell_type": "code",
     "collapsed": false,
     "input": [
      "print 'Change in total people in the white community: %s' %white_total_change[0]\n",
      "print 'Change in percentage of white community: %s' %(white_percent_change[0]*100)"
     ],
     "language": "python",
     "metadata": {},
     "outputs": [
      {
       "output_type": "stream",
       "stream": "stdout",
       "text": [
        "Change in total people in the white community: -688\n",
        "Change in percentage of white community: 0.396340539849\n"
       ]
      }
     ],
     "prompt_number": 33
    },
    {
     "cell_type": "code",
     "collapsed": false,
     "input": [
      "#change in Asian population between 2000 and 2010\n",
      "asian_total_change = o_towns_2010_new.ix[['53000']]['Asian, not Hispanic'] - \\\n",
      "o_towns_2000_new.ix[['53000']]['Asian, not Hispanic']\n",
      "\n",
      "#Percentage of Asians in 2000\n",
      "asian_percent_2000 = o_towns_2000_new.ix[['53000']]['Asian, not Hispanic']\\\n",
      "/o_towns_2000_new.ix[['53000']]['Total Pop']\n",
      "\n",
      "#Percentage of Asians in 2010\n",
      "asian_percent_2010 = o_towns_2010_new.ix[['53000']]['Asian, not Hispanic']\\\n",
      "/o_towns_2010_new.ix[['53000']]['Total Pop']\n",
      "\n",
      "#less than 1% increase in percentage of Asian community in ten year span\n",
      "asian_percent_change = asian_percent_2010 - asian_percent_2000 "
     ],
     "language": "python",
     "metadata": {},
     "outputs": [],
     "prompt_number": 34
    },
    {
     "cell_type": "heading",
     "level": 2,
     "metadata": {},
     "source": [
      "Little change overall in the Asian community either... (.3% increase which amounted to -140 in total)"
     ]
    },
    {
     "cell_type": "code",
     "collapsed": false,
     "input": [
      "print 'Change in total people in the Asian community: %s' %asian_total_change[0]\n",
      "print 'Change in percentage of Asian community: %s' %(asian_percent_change[0]*100)"
     ],
     "language": "python",
     "metadata": {},
     "outputs": [
      {
       "output_type": "stream",
       "stream": "stdout",
       "text": [
        "Change in total people in the Asian community: -140\n",
        "Change in percentage of Asian community: 0.330461793917\n"
       ]
      }
     ],
     "prompt_number": 35
    },
    {
     "cell_type": "heading",
     "level": 2,
     "metadata": {},
     "source": [
      "Notice that the Asian and white communities could only experience an increase in percentage as their total number decreases if another group (or groups) had shrunk."
     ]
    },
    {
     "cell_type": "code",
     "collapsed": false,
     "input": [
      "#change in Hispanic population between 2000 and 2010\n",
      "hispanic_total_change = o_towns_2010_new.ix[['53000']]['Hispanic'] - \\\n",
      "o_towns_2000_new.ix[['53000']]['Hispanic']\n",
      "\n",
      "#Percentage of Hispanics in 2000\n",
      "hispanic_percent_2000 = o_towns_2000_new.ix[['53000']]['Hispanic']\\\n",
      "/o_towns_2000_new.ix[['53000']]['Total Pop']\n",
      "\n",
      "#Percentage of Hispanics in 2010\n",
      "hispanic_percent_2010 = o_towns_2010_new.ix[['53000']]['Hispanic']\\\n",
      "/o_towns_2010_new.ix[['53000']]['Total Pop']\n",
      "\n",
      "#3% increase in percentage of Hispanic community in ten year span\n",
      "hispanic_percent_change = hispanic_percent_2010 - hispanic_percent_2000 "
     ],
     "language": "python",
     "metadata": {},
     "outputs": [],
     "prompt_number": 36
    },
    {
     "cell_type": "heading",
     "level": 2,
     "metadata": {},
     "source": [
      "But the Hispanic community has experience growth. (+3.5%, with 11,601 more in 2010 than in 2000)"
     ]
    },
    {
     "cell_type": "code",
     "collapsed": false,
     "input": [
      "print 'Change in total people in the Hispanic community: %s' %hispanic_total_change[0]\n",
      "print 'Change in percentage of Hispanic community: %s' %(hispanic_percent_change[0]*100)"
     ],
     "language": "python",
     "metadata": {},
     "outputs": [
      {
       "output_type": "stream",
       "stream": "stdout",
       "text": [
        "Change in total people in the Hispanic community: 11601\n",
        "Change in percentage of Hispanic community: 3.45998749039\n"
       ]
      }
     ],
     "prompt_number": 37
    },
    {
     "cell_type": "heading",
     "level": 2,
     "metadata": {},
     "source": [
      "Total Change of Each Oakland Community in Numbers"
     ]
    },
    {
     "cell_type": "code",
     "collapsed": false,
     "input": [
      "#compare total numbers for each demographic group changing in Oakland over 10 year period\n",
      "all_race_changes = [af_am_total_change, asian_total_change, hispanic_total_change, white_total_change]\n",
      "\n",
      "diff_df = DataFrame(all_race_changes)\n",
      "diff_df.rename(columns={'53000': 'Oakland between 2000-2010'}, inplace=True)\n",
      "diff_df.head()"
     ],
     "language": "python",
     "metadata": {},
     "outputs": [
      {
       "html": [
        "<div style=\"max-height:1000px;max-width:1500px;overflow:auto;\">\n",
        "<table border=\"1\" class=\"dataframe\">\n",
        "  <thead>\n",
        "    <tr style=\"text-align: right;\">\n",
        "      <th></th>\n",
        "      <th>Oakland between 2000-2010</th>\n",
        "    </tr>\n",
        "  </thead>\n",
        "  <tbody>\n",
        "    <tr>\n",
        "      <th>African-American, not Hispanic</th>\n",
        "      <td>-39873</td>\n",
        "    </tr>\n",
        "    <tr>\n",
        "      <th>Asian, not Hispanic</th>\n",
        "      <td>  -140</td>\n",
        "    </tr>\n",
        "    <tr>\n",
        "      <th>Hispanic</th>\n",
        "      <td> 11601</td>\n",
        "    </tr>\n",
        "    <tr>\n",
        "      <th>White, not Hispanic</th>\n",
        "      <td>  -688</td>\n",
        "    </tr>\n",
        "  </tbody>\n",
        "</table>\n",
        "<p>4 rows \u00d7 1 columns</p>\n",
        "</div>"
       ],
       "metadata": {},
       "output_type": "pyout",
       "prompt_number": 48,
       "text": [
        "                                Oakland between 2000-2010\n",
        "African-American, not Hispanic                     -39873\n",
        "Asian, not Hispanic                                  -140\n",
        "Hispanic                                            11601\n",
        "White, not Hispanic                                  -688\n",
        "\n",
        "[4 rows x 1 columns]"
       ]
      }
     ],
     "prompt_number": 48
    },
    {
     "cell_type": "code",
     "collapsed": false,
     "input": [
      "diff_df['Oakland between 2000-2010'].values.tolist()"
     ],
     "language": "python",
     "metadata": {},
     "outputs": [
      {
       "metadata": {},
       "output_type": "pyout",
       "prompt_number": 51,
       "text": [
        "[-39873, -140, 11601, -688]"
       ]
      }
     ],
     "prompt_number": 51
    },
    {
     "cell_type": "code",
     "collapsed": false,
     "input": [
      "groups = diff_df.index.values.tolist()\n",
      "x_pos = np.arange(len(groups))\n",
      "changes = diff_df['Oakland between 2000-2010'].values.tolist()\n",
      "\n",
      "plt.bar(x_pos, changes, align='center', alpha=0.4, color='#996666')\n",
      "plt.xticks(x_pos, groups)\n",
      "plt.ylabel('Population Changes')\n",
      "plt.xticks(rotation=20)\n",
      "plt.title('Oakland\\'s Changing Communities')\n",
      "\n",
      "plt.show()"
     ],
     "language": "python",
     "metadata": {},
     "outputs": [
      {
       "metadata": {},
       "output_type": "display_data",
       "png": "[encoded data removed]",
       "text": [
        "<matplotlib.figure.Figure at 0x10800d590>"
       ]
      }
     ],
     "prompt_number": 63
    },
    {
     "cell_type": "code",
     "collapsed": false,
     "input": [
      "changes_over_time = {\"Hispanic %\": Series([hispanic_percent_2000[0], hispanic_percent_2010[0]], index=['2000','2010']),\\\n",
      "                     \"Asian %\": Series([asian_percent_2000[0], asian_percent_2010[0]], index=['2000','2010']),\\\n",
      "                     \"African-American %\": Series([af_am_percent_2000[0], af_am_percent_2010[0]], index=['2000','2010']),\\\n",
      "                     \"White %\": Series([white_percent_2000[0], white_percent_2010[0]], index=['2000','2010'])}\n",
      "                                                                  \n",
      " \n",
      "race_perc_df = DataFrame(changes_over_time)\n",
      "race_perc_df.head()"
     ],
     "language": "python",
     "metadata": {},
     "outputs": [
      {
       "html": [
        "<div style=\"max-height:1000px;max-width:1500px;overflow:auto;\">\n",
        "<table border=\"1\" class=\"dataframe\">\n",
        "  <thead>\n",
        "    <tr style=\"text-align: right;\">\n",
        "      <th></th>\n",
        "      <th>African-American %</th>\n",
        "      <th>Asian %</th>\n",
        "      <th>Hispanic %</th>\n",
        "      <th>White %</th>\n",
        "    </tr>\n",
        "  </thead>\n",
        "  <tbody>\n",
        "    <tr>\n",
        "      <th>2000</th>\n",
        "      <td> 0.366748</td>\n",
        "      <td> 0.163378</td>\n",
        "      <td> 0.21895</td>\n",
        "      <td> 0.255319</td>\n",
        "    </tr>\n",
        "    <tr>\n",
        "      <th>2010</th>\n",
        "      <td> 0.272922</td>\n",
        "      <td> 0.166683</td>\n",
        "      <td> 0.25355</td>\n",
        "      <td> 0.259283</td>\n",
        "    </tr>\n",
        "  </tbody>\n",
        "</table>\n",
        "<p>2 rows \u00d7 4 columns</p>\n",
        "</div>"
       ],
       "metadata": {},
       "output_type": "pyout",
       "prompt_number": 65,
       "text": [
        "      African-American %   Asian %  Hispanic %   White %\n",
        "2000            0.366748  0.163378     0.21895  0.255319\n",
        "2010            0.272922  0.166683     0.25355  0.259283\n",
        "\n",
        "[2 rows x 4 columns]"
       ]
      }
     ],
     "prompt_number": 65
    },
    {
     "cell_type": "code",
     "collapsed": false,
     "input": [
      "import numpy as np\n",
      "import matplotlib.pyplot as plt\n",
      "\n",
      "N = 4\n",
      "\n",
      "#x locations for the groups, width of the bars\n",
      "ind = np.arange(N)\n",
      "width = 0.3   \n",
      "\n",
      "perc_00 = race_perc_df.ix['2000']*100\n",
      "fig, ax = plt.subplots()\n",
      "rects1 = ax.bar(ind, perc_00, width, edgecolor='#ede5e5', facecolor='#b04c4c', align='center')\n",
      "\n",
      "perc_10 = race_perc_df.ix['2010']*100\n",
      "rects2 = ax.bar(ind+width, perc_10, width, edgecolor='#e5eeee', facecolor='#99bbbb', align='center')\n",
      "\n",
      "# add labeling\n",
      "ax.set_ylabel('Percent')\n",
      "ax.set_title('Percent of Total Population by Census Categories for Race/Ethnicity')\n",
      "ax.set_xticks(ind+width)\n",
      "ax.set_xticklabels(race_perc_df.columns)\n",
      "ax.legend( (rects1[0], rects2[0]), ('2000', '2010') )\n",
      "\n",
      "\n",
      "def autolabel(rects):\n",
      "    # attach some text labels\n",
      "    for rect in rects:\n",
      "        height = rect.get_height()\n",
      "        ax.text(rect.get_x()+rect.get_width()/2., 1.025*height, '%d'%int(height),\n",
      "                ha='center', va='bottom')\n",
      "\n",
      "autolabel(rects1)\n",
      "autolabel(rects2)\n",
      "\n",
      "plt.show()"
     ],
     "language": "python",
     "metadata": {},
     "outputs": [
      {
       "metadata": {},
       "output_type": "display_data",
       "png": "[encoded data removed]",
       "text": [
        "<matplotlib.figure.Figure at 0x10801d750>"
       ]
      }
     ],
     "prompt_number": 67
    },
    {
     "cell_type": "heading",
     "level": 2,
     "metadata": {},
     "source": [
      "The visual above presents the story we've told so far about changing percentages of Oakland's racial/ethnic communities."
     ]
    },
    {
     "cell_type": "code",
     "collapsed": false,
     "input": [
      "#hmmm, there's greater than 100% population in Oakland in 2000? May be due to rounding. \n",
      "race_perc_df.ix['2000'].sum()"
     ],
     "language": "python",
     "metadata": {},
     "outputs": [
      {
       "metadata": {},
       "output_type": "pyout",
       "prompt_number": 70,
       "text": [
        "1.0043956704148351"
       ]
      }
     ],
     "prompt_number": 70
    },
    {
     "cell_type": "code",
     "collapsed": false,
     "input": [
      "#The missing 5% percent must be people we didn't count, like American Indians. Perhaps Oakland is overall more diverse in 2010 \n",
      "#than in 2000 in the sense that there are more represented groups in the population.\n",
      "race_perc_df.ix['2010'].sum()"
     ],
     "language": "python",
     "metadata": {},
     "outputs": [
      {
       "metadata": {},
       "output_type": "pyout",
       "prompt_number": 71,
       "text": [
        "0.95243701436307981"
       ]
      }
     ],
     "prompt_number": 71
    },
    {
     "cell_type": "heading",
     "level": 2,
     "metadata": {},
     "source": [
      "So, which tracts in Oakland have seen the most demographic change?"
     ]
    },
    {
     "cell_type": "code",
     "collapsed": false,
     "input": [
      "#call census for demographic info at tract level\n",
      "def tracts(variables=\"NAME\", year=2010):\n",
      "    \n",
      "    states_fips = set([s.fips for s in us.states.STATES])\n",
      "    geo={'for':'tract:*',\n",
      "           'in':'state:06 county:001'}\n",
      "    \n",
      "    for tract in c.sf1.get(variables, geo=geo, year=year):\n",
      "        yield tract"
     ],
     "language": "python",
     "metadata": {},
     "outputs": [],
     "prompt_number": 72
    },
    {
     "cell_type": "markdown",
     "metadata": {},
     "source": [
      "Get data for 2000 tracts."
     ]
    },
    {
     "cell_type": "code",
     "collapsed": false,
     "input": [
      "#P001001/Total Pop, P010004/African-American Not Hispanic, P011001/Hispanic, P010006/Asian, not Hispanic \n",
      "#P010003/White, not Hispanic \n",
      "o_tracts_2000 = [tract for tract in tracts(variables=\"NAME,P001001,P010004,P011001,P010006,P010003\", year=2000)]\n",
      "\n",
      "#put list into dataframe\n",
      "tracts_2000_df = pd.DataFrame(o_tracts_2000)\n",
      "\n",
      "populations = ['P001001', 'P010004', 'P011001', 'P010006', 'P010003']\n",
      "tracts_2000_df[(populations)] = tracts_2000_df[(populations)].astype(int)"
     ],
     "language": "python",
     "metadata": {},
     "outputs": [],
     "prompt_number": 74
    },
    {
     "cell_type": "code",
     "collapsed": false,
     "input": [
      "#create new descriptively named columns with values population by race/ethnicity\n",
      "tracts_2000_df['African-American, not Hispanic'] = tracts_2000_df['P010004']\n",
      "tracts_2000_df['White, not Hispanic'] = tracts_2000_df['P010003']\n",
      "tracts_2000_df['Asian, not Hispanic'] = tracts_2000_df['P010006']\n",
      "tracts_2000_df['Total Pop'] = tracts_2000_df['P001001']\n",
      "tracts_2000_df['Hispanic'] = tracts_2000_df['P011001']\n",
      "\n",
      "#show only columns that have legible names\n",
      "alameda_tracts_2000_df = tracts_2000_df[['tract','Total Pop','African-American, not Hispanic',\\\n",
      "                                         'White, not Hispanic', 'Asian, not Hispanic', 'Hispanic']]\n",
      "\n",
      "alameda_tracts_2000_df.head()"
     ],
     "language": "python",
     "metadata": {},
     "outputs": [
      {
       "html": [
        "<div style=\"max-height:1000px;max-width:1500px;overflow:auto;\">\n",
        "<table border=\"1\" class=\"dataframe\">\n",
        "  <thead>\n",
        "    <tr style=\"text-align: right;\">\n",
        "      <th></th>\n",
        "      <th>tract</th>\n",
        "      <th>Total Pop</th>\n",
        "      <th>African-American, not Hispanic</th>\n",
        "      <th>White, not Hispanic</th>\n",
        "      <th>Asian, not Hispanic</th>\n",
        "      <th>Hispanic</th>\n",
        "    </tr>\n",
        "  </thead>\n",
        "  <tbody>\n",
        "    <tr>\n",
        "      <th>0</th>\n",
        "      <td> 400100</td>\n",
        "      <td> 2498</td>\n",
        "      <td>  125</td>\n",
        "      <td> 1987</td>\n",
        "      <td> 305</td>\n",
        "      <td>  97</td>\n",
        "    </tr>\n",
        "    <tr>\n",
        "      <th>1</th>\n",
        "      <td> 400200</td>\n",
        "      <td> 1910</td>\n",
        "      <td>   71</td>\n",
        "      <td> 1567</td>\n",
        "      <td> 177</td>\n",
        "      <td> 117</td>\n",
        "    </tr>\n",
        "    <tr>\n",
        "      <th>2</th>\n",
        "      <td> 400300</td>\n",
        "      <td> 4878</td>\n",
        "      <td>  768</td>\n",
        "      <td> 3401</td>\n",
        "      <td> 418</td>\n",
        "      <td> 314</td>\n",
        "    </tr>\n",
        "    <tr>\n",
        "      <th>3</th>\n",
        "      <td> 400400</td>\n",
        "      <td> 3659</td>\n",
        "      <td>  671</td>\n",
        "      <td> 2494</td>\n",
        "      <td> 308</td>\n",
        "      <td> 241</td>\n",
        "    </tr>\n",
        "    <tr>\n",
        "      <th>4</th>\n",
        "      <td> 400500</td>\n",
        "      <td> 3410</td>\n",
        "      <td> 1510</td>\n",
        "      <td> 1387</td>\n",
        "      <td> 216</td>\n",
        "      <td> 363</td>\n",
        "    </tr>\n",
        "  </tbody>\n",
        "</table>\n",
        "<p>5 rows \u00d7 6 columns</p>\n",
        "</div>"
       ],
       "metadata": {},
       "output_type": "pyout",
       "prompt_number": 75,
       "text": [
        "    tract  Total Pop  African-American, not Hispanic  White, not Hispanic  \\\n",
        "0  400100       2498                             125                 1987   \n",
        "1  400200       1910                              71                 1567   \n",
        "2  400300       4878                             768                 3401   \n",
        "3  400400       3659                             671                 2494   \n",
        "4  400500       3410                            1510                 1387   \n",
        "\n",
        "   Asian, not Hispanic  Hispanic  \n",
        "0                  305        97  \n",
        "1                  177       117  \n",
        "2                  418       314  \n",
        "3                  308       241  \n",
        "4                  216       363  \n",
        "\n",
        "[5 rows x 6 columns]"
       ]
      }
     ],
     "prompt_number": 75
    },
    {
     "cell_type": "code",
     "collapsed": false,
     "input": [
      "#add ratios\n",
      "alameda_tracts_2000_df['AfAm_ratio_2000'] = tracts_2000_df['P010004']/tracts_2000_df['P001001']\n",
      "alameda_tracts_2000_df['White_ratio_2000'] = tracts_2000_df['P010003']/tracts_2000_df['P001001']\n",
      "alameda_tracts_2000_df['Asian_ratio_2000'] = tracts_2000_df['P010006']/tracts_2000_df['P001001']\n",
      "alameda_tracts_2000_df['Hispanic_ratio_2000'] = tracts_2000_df['P011001']/tracts_2000_df['P001001']\n",
      "\n",
      "alameda_tracts_2000_df.head() "
     ],
     "language": "python",
     "metadata": {},
     "outputs": [
      {
       "html": [
        "<div style=\"max-height:1000px;max-width:1500px;overflow:auto;\">\n",
        "<table border=\"1\" class=\"dataframe\">\n",
        "  <thead>\n",
        "    <tr style=\"text-align: right;\">\n",
        "      <th></th>\n",
        "      <th>tract</th>\n",
        "      <th>Total Pop</th>\n",
        "      <th>African-American, not Hispanic</th>\n",
        "      <th>White, not Hispanic</th>\n",
        "      <th>Asian, not Hispanic</th>\n",
        "      <th>Hispanic</th>\n",
        "      <th>AfAm_ratio_2000</th>\n",
        "      <th>White_ratio_2000</th>\n",
        "      <th>Asian_ratio_2000</th>\n",
        "      <th>Hispanic_ratio_2000</th>\n",
        "    </tr>\n",
        "  </thead>\n",
        "  <tbody>\n",
        "    <tr>\n",
        "      <th>0</th>\n",
        "      <td> 400100</td>\n",
        "      <td> 2498</td>\n",
        "      <td>  125</td>\n",
        "      <td> 1987</td>\n",
        "      <td> 305</td>\n",
        "      <td>  97</td>\n",
        "      <td> 0.050040</td>\n",
        "      <td> 0.795436</td>\n",
        "      <td> 0.122098</td>\n",
        "      <td> 0.038831</td>\n",
        "    </tr>\n",
        "    <tr>\n",
        "      <th>1</th>\n",
        "      <td> 400200</td>\n",
        "      <td> 1910</td>\n",
        "      <td>   71</td>\n",
        "      <td> 1567</td>\n",
        "      <td> 177</td>\n",
        "      <td> 117</td>\n",
        "      <td> 0.037173</td>\n",
        "      <td> 0.820419</td>\n",
        "      <td> 0.092670</td>\n",
        "      <td> 0.061257</td>\n",
        "    </tr>\n",
        "    <tr>\n",
        "      <th>2</th>\n",
        "      <td> 400300</td>\n",
        "      <td> 4878</td>\n",
        "      <td>  768</td>\n",
        "      <td> 3401</td>\n",
        "      <td> 418</td>\n",
        "      <td> 314</td>\n",
        "      <td> 0.157442</td>\n",
        "      <td> 0.697212</td>\n",
        "      <td> 0.085691</td>\n",
        "      <td> 0.064371</td>\n",
        "    </tr>\n",
        "    <tr>\n",
        "      <th>3</th>\n",
        "      <td> 400400</td>\n",
        "      <td> 3659</td>\n",
        "      <td>  671</td>\n",
        "      <td> 2494</td>\n",
        "      <td> 308</td>\n",
        "      <td> 241</td>\n",
        "      <td> 0.183383</td>\n",
        "      <td> 0.681607</td>\n",
        "      <td> 0.084176</td>\n",
        "      <td> 0.065865</td>\n",
        "    </tr>\n",
        "    <tr>\n",
        "      <th>4</th>\n",
        "      <td> 400500</td>\n",
        "      <td> 3410</td>\n",
        "      <td> 1510</td>\n",
        "      <td> 1387</td>\n",
        "      <td> 216</td>\n",
        "      <td> 363</td>\n",
        "      <td> 0.442815</td>\n",
        "      <td> 0.406745</td>\n",
        "      <td> 0.063343</td>\n",
        "      <td> 0.106452</td>\n",
        "    </tr>\n",
        "  </tbody>\n",
        "</table>\n",
        "<p>5 rows \u00d7 10 columns</p>\n",
        "</div>"
       ],
       "metadata": {},
       "output_type": "pyout",
       "prompt_number": 76,
       "text": [
        "    tract  Total Pop  African-American, not Hispanic  White, not Hispanic  \\\n",
        "0  400100       2498                             125                 1987   \n",
        "1  400200       1910                              71                 1567   \n",
        "2  400300       4878                             768                 3401   \n",
        "3  400400       3659                             671                 2494   \n",
        "4  400500       3410                            1510                 1387   \n",
        "\n",
        "   Asian, not Hispanic  Hispanic  AfAm_ratio_2000  White_ratio_2000  \\\n",
        "0                  305        97         0.050040          0.795436   \n",
        "1                  177       117         0.037173          0.820419   \n",
        "2                  418       314         0.157442          0.697212   \n",
        "3                  308       241         0.183383          0.681607   \n",
        "4                  216       363         0.442815          0.406745   \n",
        "\n",
        "   Asian_ratio_2000  Hispanic_ratio_2000  \n",
        "0          0.122098             0.038831  \n",
        "1          0.092670             0.061257  \n",
        "2          0.085691             0.064371  \n",
        "3          0.084176             0.065865  \n",
        "4          0.063343             0.106452  \n",
        "\n",
        "[5 rows x 10 columns]"
       ]
      }
     ],
     "prompt_number": 76
    },
    {
     "cell_type": "heading",
     "level": 2,
     "metadata": {},
     "source": [
      "Let's see which tracts have the highest African-American communities in 2000."
     ]
    },
    {
     "cell_type": "code",
     "collapsed": false,
     "input": [
      "#sort by highest African-American populations\n",
      "tracts_w_ratio_2000 = alameda_tracts_2000_df.sort('AfAm_ratio_2000', ascending=False)\n",
      "tracts_w_ratio_2000.head()"
     ],
     "language": "python",
     "metadata": {},
     "outputs": [
      {
       "html": [
        "<div style=\"max-height:1000px;max-width:1500px;overflow:auto;\">\n",
        "<table border=\"1\" class=\"dataframe\">\n",
        "  <thead>\n",
        "    <tr style=\"text-align: right;\">\n",
        "      <th></th>\n",
        "      <th>tract</th>\n",
        "      <th>Total Pop</th>\n",
        "      <th>African-American, not Hispanic</th>\n",
        "      <th>White, not Hispanic</th>\n",
        "      <th>Asian, not Hispanic</th>\n",
        "      <th>Hispanic</th>\n",
        "      <th>AfAm_ratio_2000</th>\n",
        "      <th>White_ratio_2000</th>\n",
        "      <th>Asian_ratio_2000</th>\n",
        "      <th>Hispanic_ratio_2000</th>\n",
        "    </tr>\n",
        "  </thead>\n",
        "  <tbody>\n",
        "    <tr>\n",
        "      <th>22</th>\n",
        "      <td> 402300</td>\n",
        "      <td>  453</td>\n",
        "      <td>  364</td>\n",
        "      <td>  58</td>\n",
        "      <td>  19</td>\n",
        "      <td>  15</td>\n",
        "      <td> 0.803532</td>\n",
        "      <td> 0.128035</td>\n",
        "      <td> 0.041943</td>\n",
        "      <td> 0.033113</td>\n",
        "    </tr>\n",
        "    <tr>\n",
        "      <th>20</th>\n",
        "      <td> 402100</td>\n",
        "      <td> 1161</td>\n",
        "      <td>  927</td>\n",
        "      <td>  21</td>\n",
        "      <td> 161</td>\n",
        "      <td>  58</td>\n",
        "      <td> 0.798450</td>\n",
        "      <td> 0.018088</td>\n",
        "      <td> 0.138674</td>\n",
        "      <td> 0.049957</td>\n",
        "    </tr>\n",
        "    <tr>\n",
        "      <th>99</th>\n",
        "      <td> 409800</td>\n",
        "      <td> 3250</td>\n",
        "      <td> 2542</td>\n",
        "      <td> 370</td>\n",
        "      <td>  97</td>\n",
        "      <td> 249</td>\n",
        "      <td> 0.782154</td>\n",
        "      <td> 0.113846</td>\n",
        "      <td> 0.029846</td>\n",
        "      <td> 0.076615</td>\n",
        "    </tr>\n",
        "    <tr>\n",
        "      <th>24</th>\n",
        "      <td> 402500</td>\n",
        "      <td> 1779</td>\n",
        "      <td> 1369</td>\n",
        "      <td>  86</td>\n",
        "      <td> 231</td>\n",
        "      <td> 108</td>\n",
        "      <td> 0.769533</td>\n",
        "      <td> 0.048342</td>\n",
        "      <td> 0.129848</td>\n",
        "      <td> 0.060708</td>\n",
        "    </tr>\n",
        "    <tr>\n",
        "      <th>23</th>\n",
        "      <td> 402400</td>\n",
        "      <td> 2588</td>\n",
        "      <td> 1978</td>\n",
        "      <td> 166</td>\n",
        "      <td> 298</td>\n",
        "      <td> 171</td>\n",
        "      <td> 0.764297</td>\n",
        "      <td> 0.064142</td>\n",
        "      <td> 0.115147</td>\n",
        "      <td> 0.066074</td>\n",
        "    </tr>\n",
        "  </tbody>\n",
        "</table>\n",
        "<p>5 rows \u00d7 10 columns</p>\n",
        "</div>"
       ],
       "metadata": {},
       "output_type": "pyout",
       "prompt_number": 77,
       "text": [
        "     tract  Total Pop  African-American, not Hispanic  White, not Hispanic  \\\n",
        "22  402300        453                             364                   58   \n",
        "20  402100       1161                             927                   21   \n",
        "99  409800       3250                            2542                  370   \n",
        "24  402500       1779                            1369                   86   \n",
        "23  402400       2588                            1978                  166   \n",
        "\n",
        "    Asian, not Hispanic  Hispanic  AfAm_ratio_2000  White_ratio_2000  \\\n",
        "22                   19        15         0.803532          0.128035   \n",
        "20                  161        58         0.798450          0.018088   \n",
        "99                   97       249         0.782154          0.113846   \n",
        "24                  231       108         0.769533          0.048342   \n",
        "23                  298       171         0.764297          0.064142   \n",
        "\n",
        "    Asian_ratio_2000  Hispanic_ratio_2000  \n",
        "22          0.041943             0.033113  \n",
        "20          0.138674             0.049957  \n",
        "99          0.029846             0.076615  \n",
        "24          0.129848             0.060708  \n",
        "23          0.115147             0.066074  \n",
        "\n",
        "[5 rows x 10 columns]"
       ]
      }
     ],
     "prompt_number": 77
    },
    {
     "cell_type": "heading",
     "level": 2,
     "metadata": {},
     "source": [
      "Most people don't recognize where a tract number is in their neighborhood, so we hoped to map these to show where they are. For now, note that 52 tracts in Alameda County (out of 321) had an African-American community larger than 40%. "
     ]
    },
    {
     "cell_type": "code",
     "collapsed": false,
     "input": [
      "#52 tracts have an African-American population greater than 40%    \n",
      "greater_than_40_2000 = tracts_w_ratio_2000[(tracts_w_ratio_2000['AfAm_ratio_2000']>.4) & (tracts_w_ratio_2000['Total Pop'] > 1)]  \n",
      "len(greater_than_40_2000)"
     ],
     "language": "python",
     "metadata": {},
     "outputs": [
      {
       "metadata": {},
       "output_type": "pyout",
       "prompt_number": 79,
       "text": [
        "52"
       ]
      }
     ],
     "prompt_number": 79
    },
    {
     "cell_type": "markdown",
     "metadata": {},
     "source": [
      "Get data for 2010 tracts."
     ]
    },
    {
     "cell_type": "code",
     "collapsed": false,
     "input": [
      "#P0010001/Total Pop, P0050004/African-American Not Hispanic, P0050010/Hispanic, \n",
      "#P0050006/Asian, not Hispanic P0050003/White, not Hispanic \n",
      "o_tracts_2010 = [tract for tract in tracts(variables=\"NAME,P0010001,P0050004,P0050010,P0050006,P0050003\")]\n",
      "\n",
      "#put list into dataframe\n",
      "tract_df_2010 = pd.DataFrame(o_tracts_2010)"
     ],
     "language": "python",
     "metadata": {},
     "outputs": [],
     "prompt_number": 80
    },
    {
     "cell_type": "code",
     "collapsed": false,
     "input": [
      "#make all population column values into integers\n",
      "tract_df_2010.P0050004 = tract_df_2010.P0050004.astype(float)\n",
      "tract_df_2010.P0050003 = tract_df_2010.P0050003.astype(float)\n",
      "tract_df_2010.P0050006 = tract_df_2010.P0050006.astype(float)\n",
      "tract_df_2010.P0010001 = tract_df_2010.P0010001.astype(float)\n",
      "tract_df_2010.P0050010 = tract_df_2010.P0050010.astype(float)"
     ],
     "language": "python",
     "metadata": {},
     "outputs": [],
     "prompt_number": 81
    },
    {
     "cell_type": "code",
     "collapsed": false,
     "input": [
      "#create new descriptively named columns with values population by race/ethnicity\n",
      "tract_df_2010['African-American, not Hispanic'] = tract_df_2010['P0050004']\n",
      "tract_df_2010['White, not Hispanic'] = tract_df_2010['P0050003']\n",
      "tract_df_2010['Asian, not Hispanic'] = tract_df_2010['P0050006']\n",
      "tract_df_2010['Total Pop'] = tract_df_2010['P0010001']\n",
      "tract_df_2010['Hispanic'] = tract_df_2010['P0050010']\n",
      "\n",
      "#show only columns that have legible names; set index by tract\n",
      "alameda_tracts_df_2010 = tract_df_2010[['NAME','tract','Total Pop','African-American, not Hispanic', 'White, not Hispanic', \\\n",
      "                                        'Asian, not Hispanic', 'Hispanic']] \n",
      "\n",
      "alameda_tracts_df_2010.head()"
     ],
     "language": "python",
     "metadata": {},
     "outputs": [
      {
       "html": [
        "<div style=\"max-height:1000px;max-width:1500px;overflow:auto;\">\n",
        "<table border=\"1\" class=\"dataframe\">\n",
        "  <thead>\n",
        "    <tr style=\"text-align: right;\">\n",
        "      <th></th>\n",
        "      <th>NAME</th>\n",
        "      <th>tract</th>\n",
        "      <th>Total Pop</th>\n",
        "      <th>African-American, not Hispanic</th>\n",
        "      <th>White, not Hispanic</th>\n",
        "      <th>Asian, not Hispanic</th>\n",
        "      <th>Hispanic</th>\n",
        "    </tr>\n",
        "  </thead>\n",
        "  <tbody>\n",
        "    <tr>\n",
        "      <th>0</th>\n",
        "      <td> Census Tract 4001</td>\n",
        "      <td> 400100</td>\n",
        "      <td> 2937</td>\n",
        "      <td> 140</td>\n",
        "      <td> 2078</td>\n",
        "      <td> 456</td>\n",
        "      <td> 117</td>\n",
        "    </tr>\n",
        "    <tr>\n",
        "      <th>1</th>\n",
        "      <td> Census Tract 4002</td>\n",
        "      <td> 400200</td>\n",
        "      <td> 1974</td>\n",
        "      <td>  31</td>\n",
        "      <td> 1546</td>\n",
        "      <td> 146</td>\n",
        "      <td> 151</td>\n",
        "    </tr>\n",
        "    <tr>\n",
        "      <th>2</th>\n",
        "      <td> Census Tract 4003</td>\n",
        "      <td> 400300</td>\n",
        "      <td> 4865</td>\n",
        "      <td> 512</td>\n",
        "      <td> 3256</td>\n",
        "      <td> 419</td>\n",
        "      <td> 399</td>\n",
        "    </tr>\n",
        "    <tr>\n",
        "      <th>3</th>\n",
        "      <td> Census Tract 4004</td>\n",
        "      <td> 400400</td>\n",
        "      <td> 3703</td>\n",
        "      <td> 448</td>\n",
        "      <td> 2424</td>\n",
        "      <td> 270</td>\n",
        "      <td> 332</td>\n",
        "    </tr>\n",
        "    <tr>\n",
        "      <th>4</th>\n",
        "      <td> Census Tract 4005</td>\n",
        "      <td> 400500</td>\n",
        "      <td> 3517</td>\n",
        "      <td> 933</td>\n",
        "      <td> 1778</td>\n",
        "      <td> 208</td>\n",
        "      <td> 340</td>\n",
        "    </tr>\n",
        "  </tbody>\n",
        "</table>\n",
        "<p>5 rows \u00d7 7 columns</p>\n",
        "</div>"
       ],
       "metadata": {},
       "output_type": "pyout",
       "prompt_number": 82,
       "text": [
        "                NAME   tract  Total Pop  African-American, not Hispanic  \\\n",
        "0  Census Tract 4001  400100       2937                             140   \n",
        "1  Census Tract 4002  400200       1974                              31   \n",
        "2  Census Tract 4003  400300       4865                             512   \n",
        "3  Census Tract 4004  400400       3703                             448   \n",
        "4  Census Tract 4005  400500       3517                             933   \n",
        "\n",
        "   White, not Hispanic  Asian, not Hispanic  Hispanic  \n",
        "0                 2078                  456       117  \n",
        "1                 1546                  146       151  \n",
        "2                 3256                  419       399  \n",
        "3                 2424                  270       332  \n",
        "4                 1778                  208       340  \n",
        "\n",
        "[5 rows x 7 columns]"
       ]
      }
     ],
     "prompt_number": 82
    },
    {
     "cell_type": "code",
     "collapsed": false,
     "input": [
      "#create new column for ratio of African-American community in each tract\n",
      "alameda_tracts_df_2010['AfAm_ratio_2010'] = tract_df_2010['P0050004']/tract_df_2010['P0010001']\n",
      "alameda_tracts_df_2010['White_ratio_2010'] = tract_df_2010['P0050003']/tract_df_2010['P0010001']\n",
      "alameda_tracts_df_2010['Asian_ratio_2010'] = tract_df_2010['P0050006']/tract_df_2010['P0010001']\n",
      "alameda_tracts_df_2010['Hispanic_ratio_2010'] = tract_df_2010['P0050010']/tract_df_2010['P0010001']\n",
      "\n",
      "alameda_tracts_df_2010.head(2)"
     ],
     "language": "python",
     "metadata": {},
     "outputs": [
      {
       "html": [
        "<div style=\"max-height:1000px;max-width:1500px;overflow:auto;\">\n",
        "<table border=\"1\" class=\"dataframe\">\n",
        "  <thead>\n",
        "    <tr style=\"text-align: right;\">\n",
        "      <th></th>\n",
        "      <th>NAME</th>\n",
        "      <th>tract</th>\n",
        "      <th>Total Pop</th>\n",
        "      <th>African-American, not Hispanic</th>\n",
        "      <th>White, not Hispanic</th>\n",
        "      <th>Asian, not Hispanic</th>\n",
        "      <th>Hispanic</th>\n",
        "      <th>AfAm_ratio_2010</th>\n",
        "      <th>White_ratio_2010</th>\n",
        "      <th>Asian_ratio_2010</th>\n",
        "      <th>Hispanic_ratio_2010</th>\n",
        "    </tr>\n",
        "  </thead>\n",
        "  <tbody>\n",
        "    <tr>\n",
        "      <th>0</th>\n",
        "      <td> Census Tract 4001</td>\n",
        "      <td> 400100</td>\n",
        "      <td> 2937</td>\n",
        "      <td> 140</td>\n",
        "      <td> 2078</td>\n",
        "      <td> 456</td>\n",
        "      <td> 117</td>\n",
        "      <td> 0.047668</td>\n",
        "      <td> 0.707525</td>\n",
        "      <td> 0.155260</td>\n",
        "      <td> 0.039837</td>\n",
        "    </tr>\n",
        "    <tr>\n",
        "      <th>1</th>\n",
        "      <td> Census Tract 4002</td>\n",
        "      <td> 400200</td>\n",
        "      <td> 1974</td>\n",
        "      <td>  31</td>\n",
        "      <td> 1546</td>\n",
        "      <td> 146</td>\n",
        "      <td> 151</td>\n",
        "      <td> 0.015704</td>\n",
        "      <td> 0.783181</td>\n",
        "      <td> 0.073961</td>\n",
        "      <td> 0.076494</td>\n",
        "    </tr>\n",
        "  </tbody>\n",
        "</table>\n",
        "<p>2 rows \u00d7 11 columns</p>\n",
        "</div>"
       ],
       "metadata": {},
       "output_type": "pyout",
       "prompt_number": 83,
       "text": [
        "                NAME   tract  Total Pop  African-American, not Hispanic  \\\n",
        "0  Census Tract 4001  400100       2937                             140   \n",
        "1  Census Tract 4002  400200       1974                              31   \n",
        "\n",
        "   White, not Hispanic  Asian, not Hispanic  Hispanic  AfAm_ratio_2010  \\\n",
        "0                 2078                  456       117         0.047668   \n",
        "1                 1546                  146       151         0.015704   \n",
        "\n",
        "   White_ratio_2010  Asian_ratio_2010  Hispanic_ratio_2010  \n",
        "0          0.707525          0.155260             0.039837  \n",
        "1          0.783181          0.073961             0.076494  \n",
        "\n",
        "[2 rows x 11 columns]"
       ]
      }
     ],
     "prompt_number": 83
    },
    {
     "cell_type": "heading",
     "level": 2,
     "metadata": {},
     "source": [
      "Remember how there were 52 out of 321 tracts with a large (40% or over) African-American community? In 2010, there are only 32 tracts that fit that description, even though the total number of Alameda County tracts rose to 361."
     ]
    },
    {
     "cell_type": "code",
     "collapsed": false,
     "input": [
      "#sort by highest African-American populations in 2010 tracts\n",
      "tracts_w_ratio_2010 = alameda_tracts_df_2010.sort('AfAm_ratio_2010', ascending=False)\n",
      "\n",
      "#32 tracts have an African-American population greater than 40% as compared to 52 in 2000  \n",
      "greater_than_40_2010 = tracts_w_ratio_2010[(tracts_w_ratio_2010['AfAm_ratio_2010']>.4) & (tracts_w_ratio_2010['Total Pop'] > 1)]  \n",
      "len(greater_than_40_2010)"
     ],
     "language": "python",
     "metadata": {},
     "outputs": [
      {
       "metadata": {},
       "output_type": "pyout",
       "prompt_number": 84,
       "text": [
        "32"
       ]
      }
     ],
     "prompt_number": 84
    },
    {
     "cell_type": "heading",
     "level": 2,
     "metadata": {},
     "source": [
      "So one thing that stymies this calculation is that tracts change over time by the process known as redistricting. "
     ]
    },
    {
     "cell_type": "heading",
     "level": 2,
     "metadata": {},
     "source": [
      "From 2000 and 2010, new tracts were added, and some were divided into 2, 3, or 4 tracts. So we can only look at the tracts that have the same numbers in 2000 and 2010 (and even then, we might be comparing very different geographical areas!)"
     ]
    },
    {
     "cell_type": "heading",
     "level": 2,
     "metadata": {},
     "source": [
      "So how many tracts are in common between the 2000 and 2010 lists, (at least in name)? \n",
      "\n",
      "Answer: 279"
     ]
    },
    {
     "cell_type": "markdown",
     "metadata": {},
     "source": [
      "To see how the tracts were redrawn, check out this map: http://www.infoalamedacounty.org/index.php/Research/Demographics/Census-2010/New-Census-Tracts-for-2010.html"
     ]
    },
    {
     "cell_type": "code",
     "collapsed": false,
     "input": [
      "#highest proportion of African-American community in Oakland\n",
      "common_tracts = set(alameda_tracts_df_2010['tract']) & set(alameda_tracts_2000_df['tract'])\n",
      "\n",
      "len(set(alameda_tracts_df_2010['tract']))\n",
      "\n",
      "len(set(alameda_tracts_2000_df['tract']))\n",
      "\n",
      "#in common but we don't know if they're geographically related to each other\n",
      "len(common_tracts) "
     ],
     "language": "python",
     "metadata": {},
     "outputs": [
      {
       "metadata": {},
       "output_type": "pyout",
       "prompt_number": 85,
       "text": [
        "279"
       ]
      }
     ],
     "prompt_number": 85
    },
    {
     "cell_type": "heading",
     "level": 2,
     "metadata": {},
     "source": [
      "So how many tracts were left in 2010 with a larger (over 40%) African-American community? About half (from 16% in 2000 to 8% in 2010). See pie charts below."
     ]
    },
    {
     "cell_type": "code",
     "collapsed": false,
     "input": [
      "from matplotlib.gridspec import GridSpec\n",
      "\n",
      "# Some data\n",
      "labels = 'Alameda County tracts with <40% Af-Am Population', '>40% Af-Am Community'\n",
      "sizes2000 = [len(alameda_tracts_2000_df)-len(greater_than_40_2000), len(greater_than_40_2000)]\n",
      "sizes2010 = [len(alameda_tracts_df_2010)-len(greater_than_40_2010), len(greater_than_40_2010)]\n",
      "colors = ['yellowgreen', 'gold']\n",
      "\n",
      "# Make square figures and axes\n",
      "the_grid = GridSpec(2, 1)\n",
      "\n",
      "plt.subplot(the_grid[0, 0], aspect=1)\n",
      "plt.pie(sizes2000, labels=labels, autopct='%1.1f%%', shadow=False, colors=colors)\n",
      "plt.title('2000')\n",
      "\n",
      "plt.subplot(the_grid[1, 0], aspect=1)\n",
      "plt.pie(sizes2010, labels=labels, autopct='%.0f%%', shadow=False, colors=colors)\n",
      "plt.title('2010')\n",
      "\n",
      "plt.subplots_adjust(left=.19, right=1)\n",
      "\n",
      "plt.show()"
     ],
     "language": "python",
     "metadata": {},
     "outputs": [
      {
       "metadata": {},
       "output_type": "display_data",
       "png": "[encoded data removed]",
       "text": [
        "<matplotlib.figure.Figure at 0x108051490>"
       ]
      }
     ],
     "prompt_number": 86
    },
    {
     "cell_type": "code",
     "collapsed": false,
     "input": [
      "#get narrower list of columns that we want to focus on\n",
      "cols = ['tract', 'Total Pop_00', 'Total Pop_10','African-American, not Hispanic_00', \\\n",
      "        'African-American, not Hispanic_10','AfAm_ratio_2000', 'AfAm_ratio_2010', 'AfAm_ratio_change', 'AfAm_total_change']"
     ],
     "language": "python",
     "metadata": {},
     "outputs": [],
     "prompt_number": 87
    },
    {
     "cell_type": "code",
     "collapsed": false,
     "input": [
      "combined_df = pd.merge(tracts_w_ratio_2010, tracts_w_ratio_2000, on='tract', sort=True,\n",
      "      suffixes=('_10', '_00'), copy=True)"
     ],
     "language": "python",
     "metadata": {},
     "outputs": [],
     "prompt_number": 88
    },
    {
     "cell_type": "code",
     "collapsed": false,
     "input": [
      "combined_df['AfAm_ratio_change'] = combined_df['AfAm_ratio_2010'] - combined_df['AfAm_ratio_2000']\n",
      "combined_df['AfAm_total_change'] = combined_df['African-American, not Hispanic_10'] - \\\n",
      "combined_df['African-American, not Hispanic_00']\n",
      "\n",
      "#showing percent change of AfAm community by tract\n",
      "combined_df[(cols)].sort('AfAm_ratio_change', ascending=True).head(10)\n"
     ],
     "language": "python",
     "metadata": {},
     "outputs": [
      {
       "html": [
        "<div style=\"max-height:1000px;max-width:1500px;overflow:auto;\">\n",
        "<table border=\"1\" class=\"dataframe\">\n",
        "  <thead>\n",
        "    <tr style=\"text-align: right;\">\n",
        "      <th></th>\n",
        "      <th>tract</th>\n",
        "      <th>Total Pop_00</th>\n",
        "      <th>Total Pop_10</th>\n",
        "      <th>African-American, not Hispanic_00</th>\n",
        "      <th>African-American, not Hispanic_10</th>\n",
        "      <th>AfAm_ratio_2000</th>\n",
        "      <th>AfAm_ratio_2010</th>\n",
        "      <th>AfAm_ratio_change</th>\n",
        "      <th>AfAm_total_change</th>\n",
        "    </tr>\n",
        "  </thead>\n",
        "  <tbody>\n",
        "    <tr>\n",
        "      <th>79 </th>\n",
        "      <td> 409100</td>\n",
        "      <td> 2163</td>\n",
        "      <td> 2255</td>\n",
        "      <td> 1489</td>\n",
        "      <td>  924</td>\n",
        "      <td> 0.688396</td>\n",
        "      <td> 0.409756</td>\n",
        "      <td>-0.278640</td>\n",
        "      <td> -565</td>\n",
        "    </tr>\n",
        "    <tr>\n",
        "      <th>18 </th>\n",
        "      <td> 402200</td>\n",
        "      <td> 1844</td>\n",
        "      <td> 2385</td>\n",
        "      <td> 1138</td>\n",
        "      <td>  868</td>\n",
        "      <td> 0.617137</td>\n",
        "      <td> 0.363941</td>\n",
        "      <td>-0.253195</td>\n",
        "      <td> -270</td>\n",
        "    </tr>\n",
        "    <tr>\n",
        "      <th>91 </th>\n",
        "      <td> 410300</td>\n",
        "      <td> 3728</td>\n",
        "      <td> 3536</td>\n",
        "      <td> 1938</td>\n",
        "      <td>  993</td>\n",
        "      <td> 0.519850</td>\n",
        "      <td> 0.280826</td>\n",
        "      <td>-0.239024</td>\n",
        "      <td> -945</td>\n",
        "    </tr>\n",
        "    <tr>\n",
        "      <th>9  </th>\n",
        "      <td> 401000</td>\n",
        "      <td> 5709</td>\n",
        "      <td> 5678</td>\n",
        "      <td> 4176</td>\n",
        "      <td> 2848</td>\n",
        "      <td> 0.731477</td>\n",
        "      <td> 0.501585</td>\n",
        "      <td>-0.229892</td>\n",
        "      <td>-1328</td>\n",
        "    </tr>\n",
        "    <tr>\n",
        "      <th>121</th>\n",
        "      <td> 423300</td>\n",
        "      <td> 3468</td>\n",
        "      <td> 3647</td>\n",
        "      <td> 1929</td>\n",
        "      <td> 1233</td>\n",
        "      <td> 0.556228</td>\n",
        "      <td> 0.338086</td>\n",
        "      <td>-0.218142</td>\n",
        "      <td> -696</td>\n",
        "    </tr>\n",
        "    <tr>\n",
        "      <th>5  </th>\n",
        "      <td> 400600</td>\n",
        "      <td> 1707</td>\n",
        "      <td> 1571</td>\n",
        "      <td> 1037</td>\n",
        "      <td>  615</td>\n",
        "      <td> 0.607499</td>\n",
        "      <td> 0.391470</td>\n",
        "      <td>-0.216028</td>\n",
        "      <td> -422</td>\n",
        "    </tr>\n",
        "    <tr>\n",
        "      <th>78 </th>\n",
        "      <td> 409000</td>\n",
        "      <td> 3327</td>\n",
        "      <td> 3552</td>\n",
        "      <td> 2132</td>\n",
        "      <td> 1539</td>\n",
        "      <td> 0.640818</td>\n",
        "      <td> 0.433277</td>\n",
        "      <td>-0.207541</td>\n",
        "      <td> -593</td>\n",
        "    </tr>\n",
        "    <tr>\n",
        "      <th>6  </th>\n",
        "      <td> 400700</td>\n",
        "      <td> 4451</td>\n",
        "      <td> 4206</td>\n",
        "      <td> 3104</td>\n",
        "      <td> 2068</td>\n",
        "      <td> 0.697371</td>\n",
        "      <td> 0.491679</td>\n",
        "      <td>-0.205693</td>\n",
        "      <td>-1036</td>\n",
        "    </tr>\n",
        "    <tr>\n",
        "      <th>84 </th>\n",
        "      <td> 409600</td>\n",
        "      <td> 5235</td>\n",
        "      <td> 5063</td>\n",
        "      <td> 2799</td>\n",
        "      <td> 1679</td>\n",
        "      <td> 0.534670</td>\n",
        "      <td> 0.331622</td>\n",
        "      <td>-0.203049</td>\n",
        "      <td>-1120</td>\n",
        "    </tr>\n",
        "    <tr>\n",
        "      <th>8  </th>\n",
        "      <td> 400900</td>\n",
        "      <td> 2456</td>\n",
        "      <td> 2302</td>\n",
        "      <td> 1570</td>\n",
        "      <td> 1005</td>\n",
        "      <td> 0.639251</td>\n",
        "      <td> 0.436577</td>\n",
        "      <td>-0.202674</td>\n",
        "      <td> -565</td>\n",
        "    </tr>\n",
        "  </tbody>\n",
        "</table>\n",
        "<p>10 rows \u00d7 9 columns</p>\n",
        "</div>"
       ],
       "metadata": {},
       "output_type": "pyout",
       "prompt_number": 89,
       "text": [
        "      tract  Total Pop_00  Total Pop_10  African-American, not Hispanic_00  \\\n",
        "79   409100          2163          2255                               1489   \n",
        "18   402200          1844          2385                               1138   \n",
        "91   410300          3728          3536                               1938   \n",
        "9    401000          5709          5678                               4176   \n",
        "121  423300          3468          3647                               1929   \n",
        "5    400600          1707          1571                               1037   \n",
        "78   409000          3327          3552                               2132   \n",
        "6    400700          4451          4206                               3104   \n",
        "84   409600          5235          5063                               2799   \n",
        "8    400900          2456          2302                               1570   \n",
        "\n",
        "     African-American, not Hispanic_10  AfAm_ratio_2000  AfAm_ratio_2010  \\\n",
        "79                                 924         0.688396         0.409756   \n",
        "18                                 868         0.617137         0.363941   \n",
        "91                                 993         0.519850         0.280826   \n",
        "9                                 2848         0.731477         0.501585   \n",
        "121                               1233         0.556228         0.338086   \n",
        "5                                  615         0.607499         0.391470   \n",
        "78                                1539         0.640818         0.433277   \n",
        "6                                 2068         0.697371         0.491679   \n",
        "84                                1679         0.534670         0.331622   \n",
        "8                                 1005         0.639251         0.436577   \n",
        "\n",
        "     AfAm_ratio_change  AfAm_total_change  \n",
        "79           -0.278640               -565  \n",
        "18           -0.253195               -270  \n",
        "91           -0.239024               -945  \n",
        "9            -0.229892              -1328  \n",
        "121          -0.218142               -696  \n",
        "5            -0.216028               -422  \n",
        "78           -0.207541               -593  \n",
        "6            -0.205693              -1036  \n",
        "84           -0.203049              -1120  \n",
        "8            -0.202674               -565  \n",
        "\n",
        "[10 rows x 9 columns]"
       ]
      }
     ],
     "prompt_number": 89
    },
    {
     "cell_type": "code",
     "collapsed": false,
     "input": [
      "#range of increase/decrease of change in AfAm ratios\n",
      "change_range = [combined_df['AfAm_ratio_change'].max(), combined_df['AfAm_ratio_change'].min()]\n",
      "change_range"
     ],
     "language": "python",
     "metadata": {},
     "outputs": [
      {
       "metadata": {},
       "output_type": "pyout",
       "prompt_number": 90,
       "text": [
        "[0.057652969187467429, -0.27863964908719824]"
       ]
      }
     ],
     "prompt_number": 90
    },
    {
     "cell_type": "heading",
     "level": 2,
     "metadata": {},
     "source": [
      "In the following tracts, the African-American community dropped most dramatically."
     ]
    },
    {
     "cell_type": "code",
     "collapsed": false,
     "input": [
      "#tracts in which the negative percent change was the greatest\n",
      "neg_perc_change = combined_df[(cols)].sort('AfAm_ratio_change', ascending=True)[:25]\n",
      "neg_perc_change.head()"
     ],
     "language": "python",
     "metadata": {},
     "outputs": [
      {
       "html": [
        "<div style=\"max-height:1000px;max-width:1500px;overflow:auto;\">\n",
        "<table border=\"1\" class=\"dataframe\">\n",
        "  <thead>\n",
        "    <tr style=\"text-align: right;\">\n",
        "      <th></th>\n",
        "      <th>tract</th>\n",
        "      <th>Total Pop_00</th>\n",
        "      <th>Total Pop_10</th>\n",
        "      <th>African-American, not Hispanic_00</th>\n",
        "      <th>African-American, not Hispanic_10</th>\n",
        "      <th>AfAm_ratio_2000</th>\n",
        "      <th>AfAm_ratio_2010</th>\n",
        "      <th>AfAm_ratio_change</th>\n",
        "      <th>AfAm_total_change</th>\n",
        "    </tr>\n",
        "  </thead>\n",
        "  <tbody>\n",
        "    <tr>\n",
        "      <th>79 </th>\n",
        "      <td> 409100</td>\n",
        "      <td> 2163</td>\n",
        "      <td> 2255</td>\n",
        "      <td> 1489</td>\n",
        "      <td>  924</td>\n",
        "      <td> 0.688396</td>\n",
        "      <td> 0.409756</td>\n",
        "      <td>-0.278640</td>\n",
        "      <td> -565</td>\n",
        "    </tr>\n",
        "    <tr>\n",
        "      <th>18 </th>\n",
        "      <td> 402200</td>\n",
        "      <td> 1844</td>\n",
        "      <td> 2385</td>\n",
        "      <td> 1138</td>\n",
        "      <td>  868</td>\n",
        "      <td> 0.617137</td>\n",
        "      <td> 0.363941</td>\n",
        "      <td>-0.253195</td>\n",
        "      <td> -270</td>\n",
        "    </tr>\n",
        "    <tr>\n",
        "      <th>91 </th>\n",
        "      <td> 410300</td>\n",
        "      <td> 3728</td>\n",
        "      <td> 3536</td>\n",
        "      <td> 1938</td>\n",
        "      <td>  993</td>\n",
        "      <td> 0.519850</td>\n",
        "      <td> 0.280826</td>\n",
        "      <td>-0.239024</td>\n",
        "      <td> -945</td>\n",
        "    </tr>\n",
        "    <tr>\n",
        "      <th>9  </th>\n",
        "      <td> 401000</td>\n",
        "      <td> 5709</td>\n",
        "      <td> 5678</td>\n",
        "      <td> 4176</td>\n",
        "      <td> 2848</td>\n",
        "      <td> 0.731477</td>\n",
        "      <td> 0.501585</td>\n",
        "      <td>-0.229892</td>\n",
        "      <td>-1328</td>\n",
        "    </tr>\n",
        "    <tr>\n",
        "      <th>121</th>\n",
        "      <td> 423300</td>\n",
        "      <td> 3468</td>\n",
        "      <td> 3647</td>\n",
        "      <td> 1929</td>\n",
        "      <td> 1233</td>\n",
        "      <td> 0.556228</td>\n",
        "      <td> 0.338086</td>\n",
        "      <td>-0.218142</td>\n",
        "      <td> -696</td>\n",
        "    </tr>\n",
        "  </tbody>\n",
        "</table>\n",
        "<p>5 rows \u00d7 9 columns</p>\n",
        "</div>"
       ],
       "metadata": {},
       "output_type": "pyout",
       "prompt_number": 91,
       "text": [
        "      tract  Total Pop_00  Total Pop_10  African-American, not Hispanic_00  \\\n",
        "79   409100          2163          2255                               1489   \n",
        "18   402200          1844          2385                               1138   \n",
        "91   410300          3728          3536                               1938   \n",
        "9    401000          5709          5678                               4176   \n",
        "121  423300          3468          3647                               1929   \n",
        "\n",
        "     African-American, not Hispanic_10  AfAm_ratio_2000  AfAm_ratio_2010  \\\n",
        "79                                 924         0.688396         0.409756   \n",
        "18                                 868         0.617137         0.363941   \n",
        "91                                 993         0.519850         0.280826   \n",
        "9                                 2848         0.731477         0.501585   \n",
        "121                               1233         0.556228         0.338086   \n",
        "\n",
        "     AfAm_ratio_change  AfAm_total_change  \n",
        "79           -0.278640               -565  \n",
        "18           -0.253195               -270  \n",
        "91           -0.239024               -945  \n",
        "9            -0.229892              -1328  \n",
        "121          -0.218142               -696  \n",
        "\n",
        "[5 rows x 9 columns]"
       ]
      }
     ],
     "prompt_number": 91
    },
    {
     "cell_type": "heading",
     "level": 2,
     "metadata": {},
     "source": [
      "Adding up total population of tracts where African-American community changed the most shows a change of only about +100 people. But it's pretty clear that there's a different set of people here."
     ]
    },
    {
     "cell_type": "code",
     "collapsed": false,
     "input": [
      "#Total population in 2010 and 2000 for the tracts where the AfAm community changed the most\n",
      "neg_perc_change['Total Pop_10'].sum(), neg_perc_change['Total Pop_00'].sum()"
     ],
     "language": "python",
     "metadata": {},
     "outputs": [
      {
       "metadata": {},
       "output_type": "pyout",
       "prompt_number": 243,
       "text": [
        "(84810.0, 82613)"
       ]
      }
     ],
     "prompt_number": 243
    },
    {
     "cell_type": "heading",
     "level": 2,
     "metadata": {},
     "source": [
      "...as shown by adding up the population of African-American community in those tracts (-15k people!)"
     ]
    },
    {
     "cell_type": "code",
     "collapsed": false,
     "input": [
      "#Total AfAm population in these tracts where the percentage change was greatest\n",
      "neg_perc_change['African-American, not Hispanic_00'].sum(), \\\n",
      "neg_perc_change['African-American, not Hispanic_10'].sum()"
     ],
     "language": "python",
     "metadata": {},
     "outputs": [
      {
       "metadata": {},
       "output_type": "pyout",
       "prompt_number": 244,
       "text": [
        "(47982, 32654.0)"
       ]
      }
     ],
     "prompt_number": 244
    },
    {
     "cell_type": "code",
     "collapsed": false,
     "input": [
      "#difference is more than 7 times the change of the overall population (and negative)\n",
      "neg_perc_change['African-American, not Hispanic_10'].sum()-neg_perc_change['African-American, not Hispanic_00'].sum()"
     ],
     "language": "python",
     "metadata": {},
     "outputs": [
      {
       "metadata": {},
       "output_type": "pyout",
       "prompt_number": 245,
       "text": [
        "-15328.0"
       ]
      }
     ],
     "prompt_number": 245
    },
    {
     "cell_type": "heading",
     "level": 2,
     "metadata": {},
     "source": [
      "Follow up research questions: "
     ]
    },
    {
     "cell_type": "markdown",
     "metadata": {},
     "source": [
      "* How has median household income changed in those tracts? "
     ]
    },
    {
     "cell_type": "markdown",
     "metadata": {},
     "source": [
      "* Has Oakland/Alameda County gotten wealthier? Have more tracts seen an increase in median household income? Has Oakland seen such an increase overall? "
     ]
    },
    {
     "cell_type": "markdown",
     "metadata": {},
     "source": [
      "* Since we learned that Oakland's population shrank, are there fewer people per unit in households? (In other words, are households less densely populated?)"
     ]
    },
    {
     "cell_type": "markdown",
     "metadata": {},
     "source": [
      "* Is there a larger gap between the highest and lowest incomes now as compared to before? In other words, is there a greater diversity of incomes now than in 2000? "
     ]
    },
    {
     "cell_type": "heading",
     "level": 2,
     "metadata": {},
     "source": [
      "Next up, we did analysis on changes in property values by neighborhood. Kiki executed this section. "
     ]
    },
    {
     "cell_type": "markdown",
     "metadata": {},
     "source": [
      "As you'll see, Kiki's data was from 1996-2014 by Oakland neighborhoods. Only mapping tools like QGIS/ArcGIS would enable us to visually overlap neighborhoods with census tracts. "
     ]
    },
    {
     "cell_type": "code",
     "collapsed": false,
     "input": [],
     "language": "python",
     "metadata": {},
     "outputs": []
    },
    {
     "cell_type": "code",
     "collapsed": false,
     "input": [],
     "language": "python",
     "metadata": {},
     "outputs": []
    },
    {
     "cell_type": "code",
     "collapsed": false,
     "input": [],
     "language": "python",
     "metadata": {},
     "outputs": []
    },
    {
     "cell_type": "code",
     "collapsed": false,
     "input": [],
     "language": "python",
     "metadata": {},
     "outputs": []
    },
    {
     "cell_type": "code",
     "collapsed": false,
     "input": [],
     "language": "python",
     "metadata": {},
     "outputs": []
    },
    {
     "cell_type": "code",
     "collapsed": false,
     "input": [],
     "language": "python",
     "metadata": {},
     "outputs": []
    },
    {
     "cell_type": "code",
     "collapsed": false,
     "input": [],
     "language": "python",
     "metadata": {},
     "outputs": []
    },
    {
     "cell_type": "code",
     "collapsed": false,
     "input": [],
     "language": "python",
     "metadata": {},
     "outputs": []
    },
    {
     "cell_type": "code",
     "collapsed": false,
     "input": [],
     "language": "python",
     "metadata": {},
     "outputs": []
    }
   ],
   "metadata": {}
  }
 ]
}