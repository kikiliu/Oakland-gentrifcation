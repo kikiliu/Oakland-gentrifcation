{
 "metadata": {
  "name": "",
  "signature": "sha256:8f88fc16f8827124abe4a8b2340ee292a69024cc87a5623b091ed003aed8cf99"
 },
 "nbformat": 3,
 "nbformat_minor": 0,
 "worksheets": [
  {
   "cells": [
    {
     "cell_type": "code",
     "collapsed": false,
     "input": [
      "import shelve\n",
      "from subprocess import check_output\n",
      "import flask\n",
      "#Merged with flask module above\n",
      "# from flask import request, jsonify\n",
      "import StringIO\n",
      "import pandas as pd\n",
      "from pandas import Series, DataFrame\n",
      "import os\n",
      "from os import environ"
     ],
     "language": "python",
     "metadata": {},
     "outputs": [],
     "prompt_number": 1
    },
    {
     "cell_type": "code",
     "collapsed": false,
     "input": [
      "def create_filepath(filename):\n",
      "    return os.path.join('data/%s' % filename)"
     ],
     "language": "python",
     "metadata": {},
     "outputs": [],
     "prompt_number": 2
    },
    {
     "cell_type": "code",
     "collapsed": false,
     "input": [
      "def open_race_file(filepath):\n",
      "    df = pd.read_csv(filepath)\n",
      "    return df.fillna(0)"
     ],
     "language": "python",
     "metadata": {},
     "outputs": [],
     "prompt_number": 3
    },
    {
     "cell_type": "code",
     "collapsed": false,
     "input": [
      "open_race_file(create_filepath('afam_ratio_10.csv')).head()"
     ],
     "language": "python",
     "metadata": {},
     "outputs": [
      {
       "html": [
        "<div style=\"max-height:1000px;max-width:1500px;overflow:auto;\">\n",
        "<table border=\"1\" class=\"dataframe\">\n",
        "  <thead>\n",
        "    <tr style=\"text-align: right;\">\n",
        "      <th></th>\n",
        "      <th>tract</th>\n",
        "      <th>AfAm_ratio_2010</th>\n",
        "    </tr>\n",
        "  </thead>\n",
        "  <tbody>\n",
        "    <tr>\n",
        "      <th>0</th>\n",
        "      <td> 400100</td>\n",
        "      <td> 0.047668</td>\n",
        "    </tr>\n",
        "    <tr>\n",
        "      <th>1</th>\n",
        "      <td> 400200</td>\n",
        "      <td> 0.015704</td>\n",
        "    </tr>\n",
        "    <tr>\n",
        "      <th>2</th>\n",
        "      <td> 400300</td>\n",
        "      <td> 0.105242</td>\n",
        "    </tr>\n",
        "    <tr>\n",
        "      <th>3</th>\n",
        "      <td> 400400</td>\n",
        "      <td> 0.120983</td>\n",
        "    </tr>\n",
        "    <tr>\n",
        "      <th>4</th>\n",
        "      <td> 400500</td>\n",
        "      <td> 0.265283</td>\n",
        "    </tr>\n",
        "  </tbody>\n",
        "</table>\n",
        "<p>5 rows \u00d7 2 columns</p>\n",
        "</div>"
       ],
       "metadata": {},
       "output_type": "pyout",
       "prompt_number": 4,
       "text": [
        "    tract  AfAm_ratio_2010\n",
        "0  400100         0.047668\n",
        "1  400200         0.015704\n",
        "2  400300         0.105242\n",
        "3  400400         0.120983\n",
        "4  400500         0.265283\n",
        "\n",
        "[5 rows x 2 columns]"
       ]
      }
     ],
     "prompt_number": 4
    },
    {
     "cell_type": "code",
     "collapsed": false,
     "input": [],
     "language": "python",
     "metadata": {},
     "outputs": []
    }
   ],
   "metadata": {}
  }
 ]
}